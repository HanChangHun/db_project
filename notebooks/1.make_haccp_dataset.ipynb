{
 "cells": [
  {
   "cell_type": "code",
   "execution_count": 1,
   "metadata": {},
   "outputs": [],
   "source": [
    "from pathlib import Path \n",
    "from bs4 import BeautifulSoup\n",
    "from urllib.request import urlopen\n",
    "from datetime import datetime\n",
    "from tqdm.notebook import tqdm\n",
    "import pandas as pd\n",
    "import json"
   ]
  },
  {
   "cell_type": "code",
   "execution_count": 2,
   "metadata": {},
   "outputs": [],
   "source": [
    "# get service key from json file\n",
    "with open('service_key.json', 'r') as f:\n",
    "    service_key = json.load(f)\n",
    "    service_key = service_key['key']"
   ]
  },
  {
   "cell_type": "code",
   "execution_count": 3,
   "metadata": {},
   "outputs": [],
   "source": [
    "update_date = datetime.now().strftime(\"%y%m%d%H%M%S\")\n",
    "\n",
    "output_dir = Path(\"../datasets\")\n",
    "output_file = Path(\"haccp_dataset_{}.csv\".format(update_date))\n",
    "if not Path.is_dir(output_dir):\n",
    "    Path.mkdir(output_dir)\n",
    "output_path = output_dir / output_file"
   ]
  },
  {
   "cell_type": "code",
   "execution_count": 4,
   "metadata": {},
   "outputs": [],
   "source": [
    "url = \"http://apis.data.go.kr/B553748/CertImgListService/getCertImgListService?\\\n",
    "ServiceKey={service_key}&\\\n",
    "returnType=xml&\\\n",
    "pageNo={page_no}&\\\n",
    "numOfRows={num_row}\"\n",
    "\n",
    "data = urlopen(url.format(service_key = service_key, page_no = 1, num_row = 1)).read()\n",
    "soup = BeautifulSoup(data, \"html.parser\")\n",
    "num_page = int(soup.find('totalcount').text) // 100 + 1\n",
    "\n",
    "tags = [tag.name for tag in soup.find('item').find_all()]\n",
    "tags_dict = {'{}'.format(tag) : [] for tag in tags}"
   ]
  },
  {
   "cell_type": "code",
   "execution_count": 5,
   "metadata": {},
   "outputs": [
    {
     "data": {
      "application/vnd.jupyter.widget-view+json": {
       "model_id": "5376524687e4474f8bed3f6c88d4e422",
       "version_major": 2,
       "version_minor": 0
      },
      "text/plain": [
       "HBox(children=(FloatProgress(value=0.0, max=155.0), HTML(value='')))"
      ]
     },
     "metadata": {},
     "output_type": "display_data"
    },
    {
     "name": "stdout",
     "output_type": "stream",
     "text": [
      "\n"
     ]
    }
   ],
   "source": [
    "for i in tqdm(range(1, num_page + 1)):\n",
    "    data = urlopen(url.format(service_key = service_key, page_no = i, num_row = 100)).read()\n",
    "    soup = BeautifulSoup(data, \"html.parser\")\n",
    "    items = soup.find(\"items\")\n",
    "    \n",
    "    for item in items.findAll(\"item\"):\n",
    "        for tag in tags:\n",
    "            res = item.find(tag)\n",
    "            val = res.text.strip() if res != None else \"None\"\n",
    "            tags_dict[tag].append(val)\n",
    "\n",
    "df = pd.DataFrame.from_dict(tags_dict)\n",
    "df.to_csv(output_path, encoding='utf-8-sig')"
   ]
  },
  {
   "cell_type": "code",
   "execution_count": null,
   "metadata": {},
   "outputs": [],
   "source": []
  }
 ],
 "metadata": {
  "kernelspec": {
   "display_name": "Python 3",
   "language": "python",
   "name": "python3"
  },
  "language_info": {
   "codemirror_mode": {
    "name": "ipython",
    "version": 3
   },
   "file_extension": ".py",
   "mimetype": "text/x-python",
   "name": "python",
   "nbconvert_exporter": "python",
   "pygments_lexer": "ipython3",
   "version": "3.7.7"
  }
 },
 "nbformat": 4,
 "nbformat_minor": 4
}
