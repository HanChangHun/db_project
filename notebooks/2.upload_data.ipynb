{
 "cells": [
  {
   "cell_type": "code",
   "execution_count": 14,
   "metadata": {},
   "outputs": [],
   "source": [
    "import sys\n",
    "import json\n",
    "from pathlib import Path\n",
    "import sqlalchemy\n",
    "import pandas as pd\n",
    "from utils import * \n",
    "from tqdm.notebook import tqdm"
   ]
  },
  {
   "cell_type": "code",
   "execution_count": 15,
   "metadata": {},
   "outputs": [],
   "source": [
    "queries_dir = Path('queries/')\n",
    "enum_query = read_sql(queries_dir / \"1.enum_query.sql\")\n",
    "table_query = read_sql(queries_dir / \"3.table_query.sql\")\n",
    "\n",
    "datasets_dir = Path(\"../datasets/\")\n",
    "haccp_dataset_path = datasets_dir / \"haccp_dataset_200619152008.csv\"\n",
    "veg_rawmtrl_path = datasets_dir / \"VegRawMtrl_200620104858.csv\"\n",
    "all_rawmtrl_path = datasets_dir / \"AllergyRawMtrl_200620104858.csv\"\n",
    "# veg_prdkind_path = datasets_dir / \"VegPrdKind_200619145823.csv\"\n",
    "# all_prdkind_path = datasets_dir / \"AllergyPrdKind_200619145823.csv\"\n"
   ]
  },
  {
   "cell_type": "code",
   "execution_count": 16,
   "metadata": {},
   "outputs": [],
   "source": [
    "haccp_dataset = pd.read_csv(haccp_dataset_path)\n",
    "haccp_dataset = haccp_dataset.drop(['rnum', 'productgb', 'prdkindstate'], axis=1)"
   ]
  },
  {
   "cell_type": "code",
   "execution_count": 17,
   "metadata": {},
   "outputs": [],
   "source": [
    "if sys.platform.lower() == 'darwin':\n",
    "    conn = connect(user='postgres', password='0000', db='projectDB', host='localhost', port=5433)\n",
    "elif sys.platform == 'win32':\n",
    "    conn = connect(user='postgres', password='1234', db='projectDB', host='localhost', port=5432)"
   ]
  },
  {
   "cell_type": "code",
   "execution_count": 18,
   "metadata": {
    "scrolled": true
   },
   "outputs": [],
   "source": [
    "initializ_db(conn)"
   ]
  },
  {
   "cell_type": "code",
   "execution_count": 19,
   "metadata": {
    "scrolled": true
   },
   "outputs": [],
   "source": [
    "execute_queries(conn, enum_query)\n",
    "execute_queries(conn, table_query)"
   ]
  },
  {
   "cell_type": "code",
   "execution_count": 20,
   "metadata": {},
   "outputs": [],
   "source": [
    "haccp_dataset = pd.read_csv(haccp_dataset_path)\n",
    "haccp_dataset = haccp_dataset.drop(['rnum', 'productgb', 'prdkindstate'], axis=1)\n",
    "    \n",
    "veg_rawmtrl = pd.read_csv(veg_rawmtrl_path)\n",
    "all_rawmtrl = pd.read_csv(all_rawmtrl_path)\n",
    "# veg_prdkind = pd.read_csv(veg_prdkind_path)\n",
    "# all_prdkind = pd.read_csv(all_prdkind_path)"
   ]
  },
  {
   "cell_type": "code",
   "execution_count": 21,
   "metadata": {
    "scrolled": true
   },
   "outputs": [],
   "source": [
    "replace_dict = {\n",
    "    '(' : ' ',\n",
    "    ')' : ' ',\n",
    "    '%' : '%%',\n",
    "    \"'\" : '',\n",
    "    '\\n' : ' ',\n",
    "    '\\r' : ' '\n",
    "}"
   ]
  },
  {
   "cell_type": "code",
   "execution_count": 22,
   "metadata": {
    "scrolled": true
   },
   "outputs": [
    {
     "data": {
      "application/vnd.jupyter.widget-view+json": {
       "model_id": "e62994b759914e4fb01b1491fdde4e88",
       "version_major": 2,
       "version_minor": 0
      },
      "text/plain": [
       "HBox(children=(FloatProgress(value=0.0, max=24961.0), HTML(value='')))"
      ]
     },
     "metadata": {},
     "output_type": "display_data"
    },
    {
     "name": "stdout",
     "output_type": "stream",
     "text": [
      "\n"
     ]
    }
   ],
   "source": [
    "for data in tqdm(haccp_dataset.values):\n",
    "    new_data = []\n",
    "    for s in data:\n",
    "        if type(s) == str:\n",
    "            for org, dst in replace_dict.items():\n",
    "                s = s.replace(org, dst)\n",
    "        new_data.append(s)\n",
    "    reportno, prdnm, rawmtrl, allergy, nutrient, barcode, prdkind, manu, seller, capa, img1, img2 = new_data\n",
    "    try: \n",
    "        barcode = int(barcode)\n",
    "    except ValueError:\n",
    "        barcode = 0\n",
    "    val = \"{reportno}, '{prdnm}', '{rawmtrl}', '{allergy}', '{nutrient}', {barcode},\\\n",
    "    '{prdkind}', '{manu}', '{seller}', '{capa}', '{img1}', '{img2}'\".format(reportno = int(reportno), prdnm = prdnm, rawmtrl = rawmtrl,\n",
    "                                                                 allergy = allergy, nutrient = nutrient, barcode = int(barcode),\n",
    "                                                                 prdkind = prdkind, manu=manu, seller=seller, capa=capa, img1=img1, img2=img2)\n",
    "    insert_query = \"INSERT INTO foodinfo VALUES({})\".format(val)\n",
    "    execute_query(conn, insert_query)"
   ]
  },
  {
   "cell_type": "code",
   "execution_count": 23,
   "metadata": {},
   "outputs": [
    {
     "data": {
      "application/vnd.jupyter.widget-view+json": {
       "model_id": "6bb7b51a3d2d4fd68734af30d8f5e204",
       "version_major": 2,
       "version_minor": 0
      },
      "text/plain": [
       "HBox(children=(FloatProgress(value=0.0, max=2625.0), HTML(value='')))"
      ]
     },
     "metadata": {},
     "output_type": "display_data"
    },
    {
     "name": "stdout",
     "output_type": "stream",
     "text": [
      "\n"
     ]
    }
   ],
   "source": [
    "for data in tqdm(veg_rawmtrl.values):\n",
    "    new_data = []\n",
    "    for s in data:\n",
    "        if type(s) == str:\n",
    "            for org, dst in replace_dict.items():\n",
    "                s = s.replace(org, dst)\n",
    "        new_data.append(s)\n",
    "    rawMtrl, vegan, lactoVeg, ovoVeg, lactoOvoVeg, pescoVeg, polloVeg = new_data\n",
    "    val = \"'{}', '{}', '{}', '{}',' {}', '{}', '{}'\".format(rawMtrl, vegan, lactoVeg, ovoVeg, lactoOvoVeg, pescoVeg, polloVeg)\n",
    "    insert_query = \"INSERT INTO VegRawMtrl VALUES({})\".format(val)\n",
    "    execute_query(conn, insert_query, log=False)"
   ]
  },
  {
   "cell_type": "code",
   "execution_count": 24,
   "metadata": {},
   "outputs": [
    {
     "data": {
      "application/vnd.jupyter.widget-view+json": {
       "model_id": "15a806550e054d21a5cf80c8020978d1",
       "version_major": 2,
       "version_minor": 0
      },
      "text/plain": [
       "HBox(children=(FloatProgress(value=0.0, max=2625.0), HTML(value='')))"
      ]
     },
     "metadata": {},
     "output_type": "display_data"
    },
    {
     "name": "stdout",
     "output_type": "stream",
     "text": [
      "\n"
     ]
    }
   ],
   "source": [
    "for data in tqdm(all_rawmtrl.values):\n",
    "    new_data = []\n",
    "    for s in data:\n",
    "        if type(s) == str:\n",
    "            for org, dst in replace_dict.items():\n",
    "                s = s.replace(org, dst)\n",
    "        new_data.append(s)\n",
    "    rawMtrl, allergy, isCrossReact, parentAllergy, probablility = new_data\n",
    "    val = \"'{}', '{}', '{}', '{}', '{}'\".format(rawMtrl, allergy, isCrossReact, parentAllergy, probablility)\n",
    "    insert_query = \"INSERT INTO AllergyRawMtrl VALUES({})\".format(val)\n",
    "    execute_query(conn, insert_query, log=False)"
   ]
  },
  {
   "cell_type": "code",
   "execution_count": null,
   "metadata": {},
   "outputs": [],
   "source": []
  },
  {
   "cell_type": "code",
   "execution_count": null,
   "metadata": {},
   "outputs": [],
   "source": []
  },
  {
   "cell_type": "markdown",
   "metadata": {},
   "source": [
    "---"
   ]
  },
  {
   "cell_type": "code",
   "execution_count": 25,
   "metadata": {},
   "outputs": [
    {
     "ename": "NameError",
     "evalue": "name 'veg_prdkind' is not defined",
     "output_type": "error",
     "traceback": [
      "\u001b[0;31m---------------------------------------------------------------------------\u001b[0m",
      "\u001b[0;31mNameError\u001b[0m                                 Traceback (most recent call last)",
      "\u001b[0;32m<ipython-input-25-c01cbd1a5c06>\u001b[0m in \u001b[0;36m<module>\u001b[0;34m\u001b[0m\n\u001b[0;32m----> 1\u001b[0;31m \u001b[0;32mfor\u001b[0m \u001b[0mdata\u001b[0m \u001b[0;32min\u001b[0m \u001b[0mtqdm\u001b[0m\u001b[0;34m(\u001b[0m\u001b[0mveg_prdkind\u001b[0m\u001b[0;34m.\u001b[0m\u001b[0mvalues\u001b[0m\u001b[0;34m)\u001b[0m\u001b[0;34m:\u001b[0m\u001b[0;34m\u001b[0m\u001b[0;34m\u001b[0m\u001b[0m\n\u001b[0m\u001b[1;32m      2\u001b[0m     \u001b[0mnew_data\u001b[0m \u001b[0;34m=\u001b[0m \u001b[0;34m[\u001b[0m\u001b[0;34m]\u001b[0m\u001b[0;34m\u001b[0m\u001b[0;34m\u001b[0m\u001b[0m\n\u001b[1;32m      3\u001b[0m     \u001b[0;32mfor\u001b[0m \u001b[0ms\u001b[0m \u001b[0;32min\u001b[0m \u001b[0mdata\u001b[0m\u001b[0;34m:\u001b[0m\u001b[0;34m\u001b[0m\u001b[0;34m\u001b[0m\u001b[0m\n\u001b[1;32m      4\u001b[0m         \u001b[0;32mif\u001b[0m \u001b[0mtype\u001b[0m\u001b[0;34m(\u001b[0m\u001b[0ms\u001b[0m\u001b[0;34m)\u001b[0m \u001b[0;34m==\u001b[0m \u001b[0mstr\u001b[0m\u001b[0;34m:\u001b[0m\u001b[0;34m\u001b[0m\u001b[0;34m\u001b[0m\u001b[0m\n\u001b[1;32m      5\u001b[0m             \u001b[0;32mfor\u001b[0m \u001b[0morg\u001b[0m\u001b[0;34m,\u001b[0m \u001b[0mdst\u001b[0m \u001b[0;32min\u001b[0m \u001b[0mreplace_dict\u001b[0m\u001b[0;34m.\u001b[0m\u001b[0mitems\u001b[0m\u001b[0;34m(\u001b[0m\u001b[0;34m)\u001b[0m\u001b[0;34m:\u001b[0m\u001b[0;34m\u001b[0m\u001b[0;34m\u001b[0m\u001b[0m\n",
      "\u001b[0;31mNameError\u001b[0m: name 'veg_prdkind' is not defined"
     ]
    }
   ],
   "source": [
    "for data in tqdm(veg_prdkind.values):\n",
    "    new_data = []\n",
    "    for s in data:\n",
    "        if type(s) == str:\n",
    "            for org, dst in replace_dict.items():\n",
    "                s = s.replace(org, dst)\n",
    "        new_data.append(s)\n",
    "    prdKind, vegan, lactoVeg, ovoVeg, lactoOvoVeg, pescoVeg, polloVeg = new_data\n",
    "    val = \"'{}', '{}', '{}', '{}',' {}', '{}', '{}'\".format(prdKind, vegan, lactoVeg, ovoVeg, lactoOvoVeg, pescoVeg, polloVeg)\n",
    "    insert_query = \"INSERT INTO VegPrdKind VALUES({})\".format(val)\n",
    "    execute_query(conn, insert_query, log=False)"
   ]
  },
  {
   "cell_type": "code",
   "execution_count": 26,
   "metadata": {},
   "outputs": [
    {
     "ename": "NameError",
     "evalue": "name 'all_prdkind' is not defined",
     "output_type": "error",
     "traceback": [
      "\u001b[0;31m---------------------------------------------------------------------------\u001b[0m",
      "\u001b[0;31mNameError\u001b[0m                                 Traceback (most recent call last)",
      "\u001b[0;32m<ipython-input-26-3d9fe87e90dc>\u001b[0m in \u001b[0;36m<module>\u001b[0;34m\u001b[0m\n\u001b[0;32m----> 1\u001b[0;31m \u001b[0;32mfor\u001b[0m \u001b[0mdata\u001b[0m \u001b[0;32min\u001b[0m \u001b[0mtqdm\u001b[0m\u001b[0;34m(\u001b[0m\u001b[0mall_prdkind\u001b[0m\u001b[0;34m.\u001b[0m\u001b[0mvalues\u001b[0m\u001b[0;34m)\u001b[0m\u001b[0;34m:\u001b[0m\u001b[0;34m\u001b[0m\u001b[0;34m\u001b[0m\u001b[0m\n\u001b[0m\u001b[1;32m      2\u001b[0m     \u001b[0mnew_data\u001b[0m \u001b[0;34m=\u001b[0m \u001b[0;34m[\u001b[0m\u001b[0;34m]\u001b[0m\u001b[0;34m\u001b[0m\u001b[0;34m\u001b[0m\u001b[0m\n\u001b[1;32m      3\u001b[0m     \u001b[0;32mfor\u001b[0m \u001b[0ms\u001b[0m \u001b[0;32min\u001b[0m \u001b[0mdata\u001b[0m\u001b[0;34m:\u001b[0m\u001b[0;34m\u001b[0m\u001b[0;34m\u001b[0m\u001b[0m\n\u001b[1;32m      4\u001b[0m         \u001b[0;32mif\u001b[0m \u001b[0mtype\u001b[0m\u001b[0;34m(\u001b[0m\u001b[0ms\u001b[0m\u001b[0;34m)\u001b[0m \u001b[0;34m==\u001b[0m \u001b[0mstr\u001b[0m\u001b[0;34m:\u001b[0m\u001b[0;34m\u001b[0m\u001b[0;34m\u001b[0m\u001b[0m\n\u001b[1;32m      5\u001b[0m             \u001b[0;32mfor\u001b[0m \u001b[0morg\u001b[0m\u001b[0;34m,\u001b[0m \u001b[0mdst\u001b[0m \u001b[0;32min\u001b[0m \u001b[0mreplace_dict\u001b[0m\u001b[0;34m.\u001b[0m\u001b[0mitems\u001b[0m\u001b[0;34m(\u001b[0m\u001b[0;34m)\u001b[0m\u001b[0;34m:\u001b[0m\u001b[0;34m\u001b[0m\u001b[0;34m\u001b[0m\u001b[0m\n",
      "\u001b[0;31mNameError\u001b[0m: name 'all_prdkind' is not defined"
     ]
    }
   ],
   "source": [
    "for data in tqdm(all_prdkind.values):\n",
    "    new_data = []\n",
    "    for s in data:\n",
    "        if type(s) == str:\n",
    "            for org, dst in replace_dict.items():\n",
    "                s = s.replace(org, dst)\n",
    "        new_data.append(s)\n",
    "    prdKind, allergy, isCrossReact, parentAllergy, probablility = new_data\n",
    "    val = \"'{}', '{}', '{}', '{}'\".format(prdKind, allergy, isCrossReact, parentAllergy, probablility)\n",
    "    insert_query = \"INSERT INTO AllergyPrdKind VALUES({})\".format(val)\n",
    "    execute_query(conn, insert_query, log=False)"
   ]
  },
  {
   "cell_type": "code",
   "execution_count": null,
   "metadata": {},
   "outputs": [],
   "source": []
  },
  {
   "cell_type": "code",
   "execution_count": null,
   "metadata": {},
   "outputs": [],
   "source": []
  },
  {
   "cell_type": "code",
   "execution_count": null,
   "metadata": {},
   "outputs": [],
   "source": []
  }
 ],
 "metadata": {
  "kernelspec": {
   "display_name": "Python 3",
   "language": "python",
   "name": "python3"
  },
  "language_info": {
   "codemirror_mode": {
    "name": "ipython",
    "version": 3
   },
   "file_extension": ".py",
   "mimetype": "text/x-python",
   "name": "python",
   "nbconvert_exporter": "python",
   "pygments_lexer": "ipython3",
   "version": "3.7.6"
  }
 },
 "nbformat": 4,
 "nbformat_minor": 4
}
