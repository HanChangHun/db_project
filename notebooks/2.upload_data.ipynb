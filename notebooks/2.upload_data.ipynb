{
 "cells": [
  {
   "cell_type": "code",
   "execution_count": 46,
   "metadata": {},
   "outputs": [],
   "source": [
    "import sys\n",
    "import json\n",
    "from pathlib import Path\n",
    "import sqlalchemy\n",
    "import pandas as pd\n",
    "from utils import * "
   ]
  },
  {
   "cell_type": "code",
   "execution_count": 47,
   "metadata": {},
   "outputs": [],
   "source": [
    "queries_dir = Path('queries/')\n",
    "enum_query = read_sql(queries_dir / \"1.enum_query.sql\")\n",
    "table_query = read_sql(queries_dir / \"3.table_query.sql\")\n",
    "\n",
    "datasets_dir = Path(\"../datasets/\")\n",
    "haccp_dataset_path = datasets_dir / \"haccp_dataset_200619142700.csv\"\n",
    "veg_prdkind_path = datasets_dir / \"VegPrdKind_200619145823.csv\"\n",
    "all_prdkind_path = datasets_dir / \"AllergyPrdKind_200619145823.csv\"\n",
    "veg_rawmtrl_path = datasets_dir / \"VegRawMtrl_200619145823.csv\"\n",
    "all_rawmtrl_path = datasets_dir / \"AllergyRawMtrl_200619145823.csv\""
   ]
  },
  {
   "cell_type": "code",
   "execution_count": 48,
   "metadata": {},
   "outputs": [],
   "source": [
    "if sys.platform.lower() == 'darwin':\n",
    "    conn = connect(user='postgres', password='0000', db='projectDB', host='localhost', port=5433)\n",
    "elif sys.platform == 'win32':\n",
    "    conn = connect(user='postgres', password='1234', db='projectDB', host='localhost', port=5432)"
   ]
  },
  {
   "cell_type": "code",
   "execution_count": 49,
   "metadata": {
    "scrolled": true
   },
   "outputs": [],
   "source": [
    "initializ_db(conn)"
   ]
  },
  {
   "cell_type": "code",
   "execution_count": 50,
   "metadata": {
    "scrolled": true
   },
   "outputs": [],
   "source": [
    "execute_queries(conn, enum_query)\n",
    "execute_queries(conn, table_query)"
   ]
  },
  {
   "cell_type": "code",
   "execution_count": 51,
   "metadata": {},
   "outputs": [],
   "source": [
    "haccp_dataset = pd.read_csv(haccp_dataset_path)\n",
    "haccp_dataset = haccp_dataset.drop(['rnum', 'productgb', 'prdkindstate'], axis=1)\n",
    "    \n",
    "veg_prdkind = pd.read_csv(veg_prdkind_path)\n",
    "all_prdkind = pd.read_csv(all_prdkind_path)\n",
    "veg_rawmtrl = pd.read_csv(veg_rawmtrl_path)\n",
    "all_rawmtrl = pd.read_csv(all_rawmtrl_path)"
   ]
  },
  {
   "cell_type": "code",
   "execution_count": 52,
   "metadata": {
    "scrolled": true
   },
   "outputs": [],
   "source": [
    "replace_dict = {\n",
    "    '(' : ' ',\n",
    "    ')' : ' ',\n",
    "    '%' : '%%',\n",
    "    \"'\" : '',\n",
    "    '\\n' : ' ',\n",
    "    '\\r' : ' '\n",
    "}"
   ]
  },
  {
   "cell_type": "code",
   "execution_count": 53,
   "metadata": {
    "scrolled": true
   },
   "outputs": [],
   "source": [
    "for data in haccp_dataset.values:\n",
    "    new_data = []\n",
    "    for s in data:\n",
    "        if type(s) == str:\n",
    "            for org, dst in replace_dict.items():\n",
    "                s = s.replace(org, dst)\n",
    "        new_data.append(s)\n",
    "    reportno, prdnm, rawmtrl, allergy, nutrient, barcode, prdkind, manu, seller, capa, img1, img2 = new_data\n",
    "    val = \"'{reportno}', '{prdnm}', '{rawmtrl}', '{allergy}', '{nutrient}','{barcode}',\\\n",
    "    '{prdkind}', '{manu}', '{seller}', '{capa}', '{img1}', '{img2}'\".format(reportno = reportno, prdnm = prdnm, rawmtrl = rawmtrl,\n",
    "                                                                 allergy = allergy, nutrient = nutrient, barcode = barcode,\n",
    "                                                                 prdkind = prdkind, manu=manu, seller=seller, capa=capa, img1=img1, img2=img2)\n",
    "    insert_query = \"INSERT INTO foodinfo VALUES({})\".format(val)\n",
    "    execute_query(conn, insert_query, log=False)"
   ]
  },
  {
   "cell_type": "code",
   "execution_count": 54,
   "metadata": {},
   "outputs": [],
   "source": [
    "for data in veg_prdkind.values:\n",
    "    new_data = []\n",
    "    for s in data:\n",
    "        if type(s) == str:\n",
    "            for org, dst in replace_dict.items():\n",
    "                s = s.replace(org, dst)\n",
    "        new_data.append(s)\n",
    "    prdKind, vegan, lactoVeg, ovoVeg, lactoOvoVeg, pescoVeg, polloVeg = new_data\n",
    "    val = \"'{}', '{}', '{}', '{}',' {}', '{}', '{}'\".format(prdKind, vegan, lactoVeg, ovoVeg, lactoOvoVeg, pescoVeg, polloVeg)\n",
    "    insert_query = \"INSERT INTO VegPrdKind VALUES({})\".format(val)\n",
    "    execute_query(conn, insert_query, log=False)"
   ]
  },
  {
   "cell_type": "code",
   "execution_count": 55,
   "metadata": {},
   "outputs": [],
   "source": [
    "for data in veg_rawmtrl.values:\n",
    "    new_data = []\n",
    "    for s in data:\n",
    "        if type(s) == str:\n",
    "            for org, dst in replace_dict.items():\n",
    "                s = s.replace(org, dst)\n",
    "        new_data.append(s)\n",
    "    rawMtrl, vegan, lactoVeg, ovoVeg, lactoOvoVeg, pescoVeg, polloVeg = new_data\n",
    "    val = \"'{}', '{}', '{}', '{}',' {}', '{}', '{}'\".format(rawMtrl, vegan, lactoVeg, ovoVeg, lactoOvoVeg, pescoVeg, polloVeg)\n",
    "    insert_query = \"INSERT INTO VegRawMtrl VALUES({})\".format(val)\n",
    "    execute_query(conn, insert_query, log=False)"
   ]
  },
  {
   "cell_type": "code",
   "execution_count": 56,
   "metadata": {},
   "outputs": [],
   "source": [
    "for data in all_prdkind.values:\n",
    "    new_data = []\n",
    "    for s in data:\n",
    "        if type(s) == str:\n",
    "            for org, dst in replace_dict.items():\n",
    "                s = s.replace(org, dst)\n",
    "        new_data.append(s)\n",
    "    prdKind, allergy, isCrossReact, parentAllergy, probablility = new_data\n",
    "    val = \"'{}', '{}', '{}', '{}'\".format(prdKind, allergy, isCrossReact, parentAllergy, probablility)\n",
    "    insert_query = \"INSERT INTO AllergyPrdKind VALUES({})\".format(val)\n",
    "    execute_query(conn, insert_query, log=False)"
   ]
  },
  {
   "cell_type": "code",
   "execution_count": 57,
   "metadata": {},
   "outputs": [],
   "source": [
    "for data in all_rawmtrl.values:\n",
    "    new_data = []\n",
    "    for s in data:\n",
    "        if type(s) == str:\n",
    "            for org, dst in replace_dict.items():\n",
    "                s = s.replace(org, dst)\n",
    "        new_data.append(s)\n",
    "    rawMtrl, allergy, isCrossReact, parentAllergy, probablility = new_data\n",
    "    val = \"'{}', '{}', '{}', '{}', '{}'\".format(rawMtrl, allergy, isCrossReact, parentAllergy, probablility)\n",
    "    insert_query = \"INSERT INTO AllergyRawMtrl VALUES({})\".format(val)\n",
    "    execute_query(conn, insert_query)"
   ]
  },
  {
   "cell_type": "code",
   "execution_count": null,
   "metadata": {},
   "outputs": [],
   "source": []
  },
  {
   "cell_type": "code",
   "execution_count": null,
   "metadata": {},
   "outputs": [],
   "source": []
  },
  {
   "cell_type": "code",
   "execution_count": null,
   "metadata": {},
   "outputs": [],
   "source": []
  }
 ],
 "metadata": {
  "kernelspec": {
   "display_name": "Python 3",
   "language": "python",
   "name": "python3"
  },
  "language_info": {
   "codemirror_mode": {
    "name": "ipython",
    "version": 3
   },
   "file_extension": ".py",
   "mimetype": "text/x-python",
   "name": "python",
   "nbconvert_exporter": "python",
   "pygments_lexer": "ipython3",
   "version": "3.7.6"
  }
 },
 "nbformat": 4,
 "nbformat_minor": 4
}
