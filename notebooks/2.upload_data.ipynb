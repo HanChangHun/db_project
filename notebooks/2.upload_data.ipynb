{
 "cells": [
  {
   "cell_type": "code",
   "execution_count": 1,
   "metadata": {},
   "outputs": [],
   "source": [
    "from pathlib import Path\n",
    "import sqlalchemy\n",
    "import pandas as pd\n",
    "from utils import * "
   ]
  },
  {
   "cell_type": "code",
   "execution_count": 2,
   "metadata": {},
   "outputs": [],
   "source": [
    "queries_dir = Path('queries/')\n",
    "enum_query = read_sql(queries_dir / \"1.enum_query.sql\")\n",
    "table_query = read_sql(queries_dir / \"2.table_query.sql\")\n",
    "\n",
    "datasets_dir = Path(\"../datasets/\")\n",
    "haccp_dataset_path = datasets_dir / \"haccp_dataset_200525221016.csv\""
   ]
  },
  {
   "cell_type": "code",
   "execution_count": 3,
   "metadata": {},
   "outputs": [
    {
     "name": "stderr",
     "output_type": "stream",
     "text": [
      "[2020-06-11 18:51:38,137][INFO|utils.py:24] >> SERVER COMNNECTED\n"
     ]
    }
   ],
   "source": [
    "conn = connect()"
   ]
  },
  {
   "cell_type": "code",
   "execution_count": 4,
   "metadata": {
    "scrolled": true
   },
   "outputs": [
    {
     "name": "stderr",
     "output_type": "stream",
     "text": [
      "[2020-06-11 18:51:38,335][INFO|utils.py:41] >> COMPLETE QUERY : drop table foodinfo\n",
      "[2020-06-11 18:51:38,343][INFO|utils.py:41] >> COMPLETE QUERY : drop table prdkinds\n",
      "[2020-06-11 18:51:38,351][INFO|utils.py:41] >> COMPLETE QUERY : drop table rawmtrls\n",
      "[2020-06-11 18:51:38,361][INFO|utils.py:41] >> COMPLETE QUERY : drop table allergyprdkinds\n",
      "[2020-06-11 18:51:38,371][INFO|utils.py:41] >> COMPLETE QUERY : drop table vegrestrictprdkind\n",
      "[2020-06-11 18:51:38,380][INFO|utils.py:41] >> COMPLETE QUERY : drop table allergyrawmtrls\n",
      "[2020-06-11 18:51:38,388][INFO|utils.py:41] >> COMPLETE QUERY : drop table vegrestrictrawmtrls\n",
      "[2020-06-11 18:51:38,398][INFO|utils.py:41] >> COMPLETE QUERY : drop table usertable\n",
      "[2020-06-11 18:51:38,408][INFO|utils.py:41] >> COMPLETE QUERY : drop table dietmanage\n",
      "[2020-06-11 18:51:38,412][INFO|utils.py:41] >> COMPLETE QUERY : drop type allergy\n",
      "[2020-06-11 18:51:38,414][INFO|utils.py:41] >> COMPLETE QUERY : drop type veg\n",
      "[2020-06-11 18:51:38,416][INFO|utils.py:41] >> COMPLETE QUERY : drop type gen\n"
     ]
    }
   ],
   "source": [
    "initializ_db(conn)"
   ]
  },
  {
   "cell_type": "code",
   "execution_count": 5,
   "metadata": {
    "scrolled": true
   },
   "outputs": [
    {
     "name": "stderr",
     "output_type": "stream",
     "text": [
      "[2020-06-11 18:51:38,425][INFO|utils.py:41] >> COMPLETE QUERY : CREATE TYPE allergy AS ENUM ('난류', '우유', '메밀', '땅콩', '대두', '쇠고기',  '밀', '고등어', '게', '새우', '돼지고기', '복숭아', '오징어', '토마토', '아황산류', '호두', '잣', '키위', '닭고기', '조개류', '참깨')\n",
      "[2020-06-11 18:51:38,427][INFO|utils.py:41] >> COMPLETE QUERY : CREATE TYPE veg AS ENUM ('vegan', 'lactoVeg', 'ovoVeg', 'lactoOvoVeg', 'pescoVeg', 'polloVeg', 'flex')\n",
      "[2020-06-11 18:51:38,429][INFO|utils.py:41] >> COMPLETE QUERY : CREATE TYPE gen AS ENUM ('f', 'm')\n",
      "[2020-06-11 18:51:38,443][INFO|utils.py:41] >> COMPLETE QUERY : CREATE TABLE FoodInfo (  prdlstReportNo TEXT,  prdlstName TEXT,  rawMtrl TEXT,  allergy TEXT,  nutrient TEXT,  barcode TEXT,  prdKind TEXT,  manufacture TEXT,  seller TEXT,  capacity TEXT,  imgurl1 TEXT,  imgurl2 TEXT,  primary key(prdlstReportNo) )\n",
      "[2020-06-11 18:51:38,455][INFO|utils.py:41] >> COMPLETE QUERY : CREATE TABLE PrdKinds (  prdKind TEXT,  superPrdKind TEXT,  primary key(prdKind) )\n",
      "[2020-06-11 18:51:38,466][INFO|utils.py:41] >> COMPLETE QUERY : CREATE TABLE RawMtrls (  rawMtrl TEXT,   superRawMtrl TEXT,  primary key(rawMtrl) )\n",
      "[2020-06-11 18:51:38,477][INFO|utils.py:41] >> COMPLETE QUERY : CREATE TABLE AllergyPrdKinds (  allergy_kind TEXT,  superPrdKind TEXT,  isCrossReact TEXT,  ParentAllergy TEXT,  probablility TEXT,  primary key(allergy_kind)  )\n",
      "[2020-06-11 18:51:38,490][INFO|utils.py:41] >> COMPLETE QUERY : CREATE TABLE VegRestrictPrdKind (  veg_kind TEXT,  superPrdKind TEXT,  primary key(veg_kind) )\n",
      "[2020-06-11 18:51:38,503][INFO|utils.py:41] >> COMPLETE QUERY : CREATE TABLE AllergyRawMtrls (  allergy_kind TEXT,  superRawMtrl TEXT,  isCrossReact TEXT,  ParentAllergy TEXT,  probablility TEXT,  primary key(allergy_kind)  )\n",
      "[2020-06-11 18:51:38,516][INFO|utils.py:41] >> COMPLETE QUERY : CREATE TABLE VegRestrictRawMtrls (  veg_kind TEXT,  superRawMtrl TEXT,  primary key(veg_kind) )\n",
      "[2020-06-11 18:51:38,527][INFO|utils.py:41] >> COMPLETE QUERY : CREATE TABLE UserTable (  userID TEXT,  name TEXT,  gender gen,  age INT,  allergy allergy[],  vName veg,  primary key(userID) )\n",
      "[2020-06-11 18:51:38,539][INFO|utils.py:41] >> COMPLETE QUERY : CREATE TABLE DietManage (  userID TEXT,  date DATE NOT NULL DEFAULT CURRENT_DATE,  eatenFood VARCHAR(255)[],  primary key(userID, date) )\n"
     ]
    }
   ],
   "source": [
    "execute_queries(conn, enum_query)\n",
    "execute_queries(conn, table_query)"
   ]
  },
  {
   "cell_type": "code",
   "execution_count": 6,
   "metadata": {},
   "outputs": [],
   "source": [
    "haccp_dataset = pd.read_csv(haccp_dataset_path)\n",
    "haccp_dataset = haccp_dataset.drop(['Unnamed: 0', 'rnum', 'productgb', 'prdkindstate'], axis=1)"
   ]
  },
  {
   "cell_type": "code",
   "execution_count": 8,
   "metadata": {
    "scrolled": true
   },
   "outputs": [
    {
     "name": "stderr",
     "output_type": "stream",
     "text": [
      " 1일 영양성분 기준치에 대한 비율 %% 은 2,000 kcal 기준이므로 개인의 필요 열량에 따라 다를 수 있습니다.','8801024949960',    '두부', '대상㈜구미공장_경상북도 구미시 산동면 첨단기업5로 48-38', '대상㈜횡성공장_강원도 횡성군 횡성읍 청용길 15', '300g', 'http://fresh.haccp.or.kr/prdimg/2017/201705484642/201705484642-1.jpg', 'http://fresh.haccp.or.kr/prdimg/2017/201705484642/201705484642-2.jpg')\n",
      " 1일 영양성분 기준치에 대한 비율 %% 은 2,000kcal 기준이므로 개인의 필요 열량에 따라 다를 수 있습니다.','8801024051519',    '두부', '대상㈜ 구미공장_경상북도 구미시 산동면 첨단기업5로 48-38', '대상㈜ 횡성공장_강원도 횡성군 횡성읍 청용길 15', '400g 320kcal ', 'http://fresh.haccp.or.kr/prdimg/2017/201705484641/201705484641-1.jpg', 'http://fresh.haccp.or.kr/prdimg/2017/201705484641/201705484641-2.jpg')\n",
      "[2020-06-11 18:51:45,191][INFO|utils.py:41] >> COMPLETE QUERY : INSERT INTO foodinfo VALUES('201705037815', '목포미항 재래김', '재래김65%%,옥배유 수입산30.4%% ,참기름 인도산2%% ,천일염 국내산2%% ,생강0.3%%,감초뿌리 0.3%% ', '알수없음', '알수없음','알수없음',    '조미김', '유한회사 청해에스앤에프_전남 목포시 전라남도 목포시 대양산단로125번길 139  대양동 ', '_', '20g 100kcal ', 'http://fresh.haccp.or.kr/prdimg/2017/201705037815/201705037815-1.jpg', 'http://fresh.haccp.or.kr/prdimg/2017/201705037815/201705037815-2.jpg')\n",
      "[2020-06-11 18:51:45,192][INFO|utils.py:41] >> COMPLETE QUERY : INSERT INTO foodinfo VALUES('201704902541', '빛깔좋은 고춧가루', '건고추 국산 100%%', '알수없음', '알수없음','알수없음',    '고춧가루', '농업회사법인 유 청림_전라북도 정읍시 소성면 식품특화로 53', '_', '1kg', 'http://fresh.haccp.or.kr/prdimg/2017/201704902541/201704902541-1.jpg', 'http://fresh.haccp.or.kr/prdimg/2017/201704902541/201704902541-2.jpg')\n",
      "[2020-06-11 18:51:45,194][INFO|utils.py:41] >> COMPLETE QUERY : INSERT INTO foodinfo VALUES('201704760012', '미소담은 돈까스', '돼지고기68.95%% 국내산 ,우리밀빵가루[밀가루89%% 국내산 ,해바라기유 수입산 ,생이스트,유기농설탕,소금],우리밀튀김가루[밀가루78.17%% 국내산 ,감자전분 국내산 ,발아통밀가루 국내산 ,현미,구운소금],정제수', '돼지고기,밀 함유', '알수없음','8809549135325',    '분쇄가공육제품', '㈜그린팜푸드 농업회사법인 전주완주군봉동읍은하율소로179-47', '㈜그린팜푸드 농업회사법인 전주완주군봉동읍은하율소로179-47', '480g', 'http://fresh.haccp.or.kr/prdimg/2017/201704760012/201704760012-1.jpg', 'http://fresh.haccp.or.kr/prdimg/2017/201704760012/201704760012-2.jpg')\n",
      "[2020-06-11 18:51:45,196][INFO|utils.py:41] >> COMPLETE QUERY : INSERT INTO foodinfo VALUES('201704760011', '미소담은 한우장조림', '한우32.2%% 국내산 ,정제수,깐메추리알26.6%% 국내산 ,양조간장[대두 국산 ,천일염 국산 ,소맥 밀,국산 ,과당,주정,영양강화제],꽈리고추 국내산 ,갈색설탕,가쓰오부시추출액,청주,정제소금,효모추출물', '대두,밀,소고기,메추리알 함유', '알수없음','8809549138111',    '혼합식육추출가공품', '㈜그린팜푸드 농업회사법인 전주완주군봉동읍은하율소로179-47', '㈜그린팜푸드 농업회사법인 전주완주군봉동읍은하율소로179-47', '150g', 'http://fresh.haccp.or.kr/prdimg/2017/201704760011/201704760011-1.jpg', 'http://fresh.haccp.or.kr/prdimg/2017/201704760011/201704760011-2.jpg')\n",
      "[2020-06-11 18:51:45,198][INFO|utils.py:41] >> COMPLETE QUERY : INSERT INTO foodinfo VALUES('2017046701912', '꿀 고구마 말랭이', '꿀고구마 100%% 국내산 ', '알수없음', '60g, 열량185kcal, 탄수화물45g, 당류18g, 단백질2g, 지방0g, 콜레스테롤0mg, 나트륨37mg','알수없음',    '서류가공품', '농업회사법인㈜축복의열매_충남 금산군 복수면 용천로 910', '_', '60g', 'http://fresh.haccp.or.kr/prdimg/2017/2017046701912/2017046701912-1.jpg', 'http://fresh.haccp.or.kr/prdimg/2017/2017046701912/2017046701912-2.jpg')\n",
      "[2020-06-11 18:51:45,199][INFO|utils.py:41] >> COMPLETE QUERY : INSERT INTO foodinfo VALUES('201704670191', '반건조 호박고구마 말랭이', '호박고구마100%% 국내산 ', '알수없음', '영양성분60g, 열량189kcal, 탄수화물45g, 당류18g, 단백질2g, 지방0g, 콜레스테롤0mg, 나트륨37mg','알수없음',    '서류가공품', '농업회사법인㈜축복의열매_충남 금산군 복수면 용천로 910', '_', '60g', 'http://fresh.haccp.or.kr/prdimg/2017/201704670191/201704670191-1.jpg', 'http://fresh.haccp.or.kr/prdimg/2017/201704670191/201704670191-2.jpg')\n",
      "[2020-06-11 18:51:45,201][INFO|utils.py:41] >> COMPLETE QUERY : INSERT INTO foodinfo VALUES('2017038323133', '레인보우큐브MIX', '생치즈54.549%%미국산 살균우유,살균크림,정제소금,로커스트콩검,구아검등 ,화인휘프5000 가공유지,유크림,유지방,정제야자경화유, 살균우유등 ,복분자레진 [백설탕,물엿,복분자주,산머루농축액 국내산 ,합성착향로 복분자향 등],바나나레진 [폴리글리시톨시럽,물엿,합성착향료 바나나향 ,바나나시럽,백설탕등],청사과레진 [백설탕,물엿,합성착향료 사과향 ,사과농축과즙,알긴산나트륨등],메론레진 [백설탕,물엿,합성착향료 메론향 ,멜론농축과즙액,알긴산나트륨등] ,블루베리시럽 [백설탕,물엿,합성착향료 메론향 ,멜론농축과즙액,알긴산나트륨등] ,블루베리시럽 [백설탕,물엿,딸기과즙농축액,합성착향료 딸기향 ,알긴산나트륨등] ,망고시럽[망고퓨레34%% 인도산 ,백설탕,망고농축액 이스라엘산 ,물엿,L-주석산등],물엿,살균우유,옥수수전분 수입산 ,젤라틴 돼지  독일산 ,치즈향 합성착향료,에틸말톨,프로필렌글리콜 , 초코레진다크 [액상과당,카라멜색소,코코아분말 미국산 ,코코아엑기스 코코아,검정콩고형분 ,유크림등 ', '우유,대두,밀,돼지고기', '알수없음','알수없음',    '알수없음', '㈜단미푸드_강원도 원주시 호저면 매호로 251', '㈜단미푸드_강원도 원주시 호저면 매호로 251', '1pack당50.4g 5.6g×9ea ', 'http://fresh.haccp.or.kr/prdimg/2017/2017038323133/2017038323133-1.jpg', 'http://fresh.haccp.or.kr/prdimg/2017/2017038323133/2017038323133-2.jpg')\n",
      " 1일 영양성분 기준치에 대한 비율 %% 은 2,000kcal 기준이므로 개인의 필요 열량에 따라 다를 수 있습니다.','알수없음',    '혼합식용유', '㈜비앤비코리아_경기도 용인시 처인구 포곡읍 금어로 522', '_', '5L 4.58kg,25℃/41,220kcal ', 'http://fresh.haccp.or.kr/prdimg/2017/2017034706038/2017034706038-1.jpg', 'http://fresh.haccp.or.kr/prdimg/2017/2017034706038/2017034706038-2.jpg')\n",
      "[2020-06-11 18:51:45,205][INFO|utils.py:41] >> COMPLETE QUERY : INSERT INTO foodinfo VALUES('20170275045106', '한끼초밥불초밥', '그릴스시[돼지고기80.55%% 지방일부사용/국산 ,배퓨레3.36%% 국산 ,설탕,간장{양조간장원액 탈지대두:인도산 ,대파,숯불갈비맛엑기스],쌀,스시초[설탕,양조식초,정제소금],L-글루탐산나트륨 향미증진제 ,숯불바베큐소스{불맛소스},초생강,간장,생와사비,소스,혼합식용유,정제수', '쇠고기,돼지고기,대두,우유,밀,토마토,조개류 굴 ', '[총제공량/1회제공량] : 1,[1회제공량 칼로리 Kcal ] : 460,[영양표시] : 나트륨1,318mg,탄수화물69g,당류10g,지방12g,트랜스지방0g,포화지방29g,콜레스테롤44mg,단백질19g','8809581907492210',    '즉석섭취식품', '㈜탭스푸드서비스_경기도 성남시 중원구 갈마치로 215,B-401', '㈜탭스푸드서비스_경기도 성남시 중원구 갈마치로 215,B-401', '알수없음', 'http://fresh.haccp.or.kr/prdimg/2017/20170275045106/20170275045106-1.jpg', 'http://fresh.haccp.or.kr/prdimg/2017/20170275045106/20170275045106-1.jpg')\n",
      "[2020-06-11 18:51:45,208][INFO|utils.py:41] >> COMPLETE QUERY : INSERT INTO foodinfo VALUES('2017026212211', '파코니뉴욕치즈', '우유 국내산 ,당류가공품1 설탕,엑스포젤베이스아메리카,포도당,혼합탈지분유,네우트리네우트로 ,설탕,당류가공품2[전지분유,말토덱스트린,포도당,탈지분유,건조무지방요구르트{탈지분유,유산균 스트렌토코커스써모필러스,락토바실러스불가리커스 },구연산,천연요구르트향],자연치즈[파마산치즈분말97%%, 미국산/부분탈지우유,치즈컬쳐,렌넷,정제소금 ,셀룰로우스파우더],혼합제제1 구아검,카르복시메틸셀룰로오스나트륨,타라검,포도당,말토덱스트린 ,당류가공품3[설탕,포도당,푸드젤리 우피유래젤라틴 ],혼합제제2[정제수,프로필렌글리콜,혼합제제 코치닐추출색소,적양배추색소 ,치자황색소],혼합제제3[프로필렌글리콜,정제수,홍화황색소,산도조절제,Shadelemonyellow 홍화황색소,산도조절제,레몬쥬스,설탕 ,락색소],치자청색소,홍국색소', '우유', '[총제공량/1회제공량] : 1,[1회제공량 칼로리 Kcal ] : 111,[영양표시] : 나트륨69mg,탄수화물12g,당류12g,지방6g,트랜스지방0g,포화지방4.7g,콜레스테롤7mg,단백질3g','알수없음',    '아이스밀크', '주식회사 아이스팩토리제1공장_경기도 의왕시 진터골길6', '주식회사 아이스팩토리제1공장_경기도 의왕시 진터골길6', '알수없음', 'http://fresh.haccp.or.kr/prdimg/2017/2017026212211/2017026212211-1.jpg', 'http://fresh.haccp.or.kr/prdimg/2017/2017026212211/2017026212211-2.jpg')\n",
      "[2020-06-11 18:51:45,210][INFO|utils.py:41] >> COMPLETE QUERY : INSERT INTO foodinfo VALUES('20170262050117', '이종임의 LA갈비 양념구이', '소고기 갈비:미국산 60%%,이종임의 LA갈비소스[정제수,백설소양념[혼합간장{아미노산액 탈지대두:외국산/미국,인도,중국등 },양조간장원액,정제소금,양파퓨레,배퓨레],진간장[탈지대두{외국산 인도산,미국산,중국산 },액상과당,천일염 호주산 ,효소처리스테비아],백설탕,물엿,배농축액,냉동마늘 국산 ,냉동양파 국산 ,사과농축액,미향,액상과당,다진생강 국산 ,흑후추,정제소금,카라멜색소비에이,냉동키위,파인애플,헥산,구연산 산도조절제 ,다시마분말 국산 ,건표고버섯분말 국산 ]40%%', '소고기,대두,밀 함유', '알수없음','알수없음',    '양념육', '㈜농산에프디/경기도 안성시 양성면 양성로 376-18', '알수없음', '500g', 'http://fresh.haccp.or.kr/prdimg/2017/20170262050117/20170262050117-1.jpg', 'http://fresh.haccp.or.kr/prdimg/2017/20170262050117/20170262050117-2.jpg')\n",
      "[2020-06-11 18:51:45,213][INFO|utils.py:41] >> COMPLETE QUERY : INSERT INTO foodinfo VALUES('2016063409563', '그랜드 젤리', '설탕,물엿,젤라틴,D-소비톨액4.78%%,구연산,합성향료 요구르트향 ,젖산,야쿠르트유산균락토바실러스카제이배양액농축분말{야쿠르트유산균락토바실러스카제이배양액 탈염유청혼합탈지분유:네덜란드산 함량83%%}0.72%%,요구르트테이스터 일본산 ,기타식용유지가공품 정제가공유지:인도네시아산 ,펙틴,오렌지농축액,구연산나트륨,대두레시틴,글리세린지방산에스테르,혼합제제 비트레드,치자황색소,덱스트린 ,합성향료 혼합과일향 ', '우유,대두,돼지고기', '[총제공량/1회제공량] : 1,[1회제공량 칼로리 Kcal ] : 180,[영양표시] : 나트륨15mg,탄수화물41g,당류28g,지방0.5g,트랜스지방0g,포화지방0.1g,콜레스테롤0mg,단백질3g','8801128/280020',    '캔디류', '㈜에스디푸드_경기도 부천시 부천로 186번길 26', '㈜지에스리테일_서울특별시 강남구 논현로 508 GS타워', '알수없음', 'http://fresh.haccp.or.kr/prdimg/2016/2016063409563/2016063409563-1.jpg', 'http://fresh.haccp.or.kr/prdimg/2016/2016063409563/2016063409563-2.jpg')\n",
      "[2020-06-11 18:51:45,215][INFO|utils.py:41] >> COMPLETE QUERY : INSERT INTO foodinfo VALUES('201606149142', '행복한 흑염소 진 ', '흑염소 추출액 고형분6%%이상  100%% 흑염소  국내산 ,정제수,산사 국내산 ,창출 국내산 ,진피 국내산 ,감초 국내산 , 생강 국내산 , 대조 국내산 ,숙지황 국내산 , 당귀 국내산 , 백작약 국내산 , 맥아 국내산 ', '알수없음', '알수없음','알수없음',    '추출가공식품', '해운관광농원_경남 양산시 하북면 삼수온천길 27', '해운관광농원_경남 양산시 하북면 삼수온천길 27', '70ml', 'http://fresh.haccp.or.kr/prdimg/2016/201606149142/201606149142-1.jpg', 'http://fresh.haccp.or.kr/prdimg/2016/201606149142/201606149142-2.jpg')\n",
      " ※ %% 영양소 기준치 : 1일 영양소 기준치에 대한 비율','알수없음',    '알수없음', '㈜해담온_경상남도 통영시 산양읍 산양일주로 1625-17', '_', '전장김 돌김  20g 6매', 'http://fresh.haccp.or.kr/prdimg/2016/201606044081/201606044081-1.jpg', 'http://fresh.haccp.or.kr/prdimg/2016/201606044081/201606044081-2.jpg')\n",
      "[2020-06-11 18:51:45,218][INFO|utils.py:41] >> COMPLETE QUERY : INSERT INTO foodinfo VALUES('201605750012', '알나라 깐 메추리알', '메추리알99.5%% 국산 ,충전수 정제염,식초 ', '난류 메추리알 함유', '1회 제공량 1개 50g ,총 10회 제공량 500g ,1회 제공량 당 함량,%%영양소 기준치,열량 65 kcal,탄수화물 2g 1%% ,당류 0g,식이섬유 0g,단백질 5g 9%% ,지방 4g 8%% ,포화지방 2g 13%% ,트랜스지방 0.00g,콜레스테롤 183mg 61%% ,나트륨 57mg 3%% ,*%%영양성분기준치:1일 영양성분 기준치에 대한 비율','8809482160040',    '알가공품', '농업회사법인㈜새한푸드/경상남도 창녕군 계성면 광계로 393', '알수없음', '500g', 'http://fresh.haccp.or.kr/prdimg/2016/201605750012/201605750012-1.jpg', 'http://fresh.haccp.or.kr/prdimg/2016/201605750012/201605750012-2.jpg')\n",
      "[2020-06-11 18:51:45,220][INFO|utils.py:41] >> COMPLETE QUERY : INSERT INTO foodinfo VALUES('201605542172', '무량수표고버섯볶음고추장', '고추장 29.5%% [물엿, 고추양념 중국산/고춧가루2.8%% , 소맥분 미국산, 호주산 , 정제소금 국산 , 고춧가루0.9%% 중국산 ], 고추장 29.5%% [물엿, 소맥분 미국산, 호주산 , 고추양념:중국산/고춧가루 1.9%%], 탈지대두분 중국산 , 정제소금, 표고버섯 18.4%%국산 , 물엿, 고추장[고춧가루 1.0%%국산 , 찹쌀 국산 , 물엿, 엿기름, 천일염], 마늘, 백설탕, 참깨, 잣, 참기름, 후추가루', '알수없음', '알수없음','알수없음',    '혼합장', '알수없음', '알수없음', '300g, 600g', 'http://fresh.haccp.or.kr/prdimg/2016/201605542172/201605542172-1.jpg', 'http://fresh.haccp.or.kr/prdimg/2016/201605542172/201605542172-2.jpg')\n",
      "[2020-06-11 18:51:45,222][INFO|utils.py:41] >> COMPLETE QUERY : INSERT INTO foodinfo VALUES('201605542171', '무량수한우소고기볶음고추장', '고추장 34.7%% [물엿, 고추양념 중국산/고춧가루3.3%% , 소맥분 미국산, 호주산 , 정제소금 국산 , 고춧가루 1/1%%중국산 ], 소고기 22.69%%국산 , 고추장[물엿, 소맥분 미국산, 호주산 , 고추양념 중국산/고춧가루1.1%% , 탈지대두분 중국산 , 정제소금], 물엿, 고추장[고춧가루 0.9%%국산 , 찹쌀 국산 , 물엿, 엿기름, 천일염], 마늘, 백설탕, 소주, 벌꿀, 생강, 참깨, 잣, 참기름, 후추가루', '알수없음', '알수없음','알수없음',    '혼합장', '만포농산 2공장 / 경북 영주시 안정면 용주로 913-15 대한민국 ', '알수없음', '300g, 600g', 'http://fresh.haccp.or.kr/prdimg/2016/201605542171/201605542171-1.jpg', 'http://fresh.haccp.or.kr/prdimg/2016/201605542171/201605542171-2.jpg')\n",
      "[2020-06-11 18:51:45,224][INFO|utils.py:41] >> COMPLETE QUERY : INSERT INTO foodinfo VALUES('201605320319', '그릴부어스트', '돼지고기 국내산 86.55%%,요리당,간장 대두 ,간마늘,대파,정제염 국내산 ,미림,정백당,참기름,헬라빈-E[혼합제제 폴리인산나트륨,알긴산나트륨 ],간생강,통깨,헤글루탈엠[L-글루타민산나트륨 향미증진제,파슬리,소금,포도당 ],후추,통깨,천연돈장', '돼지고기, 대두 함유', '1회 제공량30g 총 약3회 제공량 80g  1회 제공량당 : 열량57.1kcal, 탄수화물 1.8219g 0.6%% , 당류 0.5946g, 단백질 4.605g 8.1%% , 지방3.4881g 7.2%% , 포화지방 1.1196g 7.5%% , 트랜스지방0.0219g,콜레스테롤16.4985g 5.4%% , 나트륨118.8111g 6%%     안의 수치는 1일 영양성분 기준치에 대한 비율임','알수없음',    '소시지류', '효자맘수제소세지협동조합 경북 포항시 남구 효자동길2번길3 054-277-9251', '알수없음', '80g이상 152.268kcal,57.1kcal/1회제공량30g ', 'http://fresh.haccp.or.kr/prdimg/2016/201605320319/201605320319-1.jpg', 'http://fresh.haccp.or.kr/prdimg/2016/201605320319/201605320319-2.jpg')\n",
      "[2020-06-11 18:51:45,225][INFO|utils.py:41] >> COMPLETE QUERY : INSERT INTO foodinfo VALUES('2016053203112', '돈떡갈비맛스테이크', '돼지고기 국산 87.37%%,정제염 국내산 ,요리당,간장 대두 ,마늘,대파,미림,설탕,참기름,헬라빈-E[혼합제제 리인산나트륨,알긴산나트륨 ],생강,통깨,후추,헤글루탈엠[L-글루타민산나트륨 향미증진제 ,파슬리,소금,포도당],아질산나트륨 발색제 ', '돼지고기, 대두 함유', '알수없음','알수없음',    '분쇄가공품', '효자맘수제소세지협동조합 경북 포항시 남구 효자동길2번길3', '알수없음', '100g이상', 'http://fresh.haccp.or.kr/prdimg/2016/2016053203112/2016053203112-1.jpg', 'http://fresh.haccp.or.kr/prdimg/2016/2016053203112/2016053203112-2.jpg')\n",
      "[2020-06-11 18:51:45,227][INFO|utils.py:41] >> COMPLETE QUERY : INSERT INTO foodinfo VALUES('2016053203111', '미트로프', '돼지고기 국산 96.78%%,정제염 국내산 ,설탕,마늘,헬라빈-E[혼합제제 폴리인산나트륨,알긴산나트륨 ],헤글루탈엠[L-글루타민산나트륨 향미증진제 ,파슬리,포도당,소금],미트로프[양념류 후추,메이스,고수생강,파프리카로즈마리 ,마늘.포도당],아질산나트륨 발색제 ', '돼지고기 함유', '알수없음','알수없음',    '분쇄가공품', '효자맘수제소세지협동조합 경북 포항시 남구 효자동길2번길3', '알수없음', '500g이상', 'http://fresh.haccp.or.kr/prdimg/2016/2016053203111/2016053203111-1.jpg', 'http://fresh.haccp.or.kr/prdimg/2016/2016053203111/2016053203111-2.jpg')\n",
      "[2020-06-11 18:51:45,227][INFO|utils.py:41] >> COMPLETE QUERY : INSERT INTO foodinfo VALUES('201605310464', '함초소금골드', '볶음소금 국산  95%%, 함초액 국산  5%%', '알수없음', '알수없음','알수없음',    '가공소금', '솔트앤그린푸드_전라남도 신안군 압해읍', '_', '400g', 'http://fresh.haccp.or.kr/prdimg/2016/201605310464/201605310464-1.jpg', 'http://fresh.haccp.or.kr/prdimg/2016/201605310464/201605310464-2.jpg')\n",
      "[2020-06-11 18:51:45,229][INFO|utils.py:41] >> COMPLETE QUERY : INSERT INTO foodinfo VALUES('201605271103', '햇살빚은 생모시송편 동부 ', '쌀52.1%% 국내산 ,동부22.1%% 미얀마 ,모시잎20.1%% 국내산 ,설탕,정제염', '알수없음', '알수없음','알수없음',    '떡류', '번영영어조합법인_전남 영광군 영광읍 영대로 670-12, 1층', '_', '400g', 'http://fresh.haccp.or.kr/prdimg/2016/201605271103/201605271103-1.jpg', 'http://fresh.haccp.or.kr/prdimg/2016/201605271103/201605271103-2.jpg')\n",
      "[2020-06-11 18:51:45,230][INFO|utils.py:41] >> COMPLETE QUERY : INSERT INTO foodinfo VALUES('201605250379', '멸치액젓', '멸치75%% 국내산 ,천일염25%% 국내산 ', '알수없음', '알수없음','알수없음',    '액젓', '조이시푸드_전남 무안군 무안읍 무안로 342', '정도에프엔에프_서울 구로구 고척로3길 109, 1층 오류동 영성빌라 ', '5kg', 'http://fresh.haccp.or.kr/prdimg/2016/201605250379/201605250379-1.jpg', 'http://fresh.haccp.or.kr/prdimg/2016/201605250379/201605250379-2.jpg')\n",
      "[2020-06-11 18:51:45,231][INFO|utils.py:41] >> COMPLETE QUERY : INSERT INTO foodinfo VALUES('201605250378', '새우육젓', '새우 국산 75%%,천일염 국산 25%%', '새우', '알수없음','알수없음',    '알수없음', '조이씨푸드_전라남도 무안군 무안읍', '_', '1kg', 'http://fresh.haccp.or.kr/prdimg/2016/201605250378/201605250378-1.jpg', 'http://fresh.haccp.or.kr/prdimg/2016/201605250378/201605250378-2.jpg')\n",
      "[2020-06-11 18:51:45,231][INFO|utils.py:41] >> COMPLETE QUERY : INSERT INTO foodinfo VALUES('201605250373', '참 새우젓', '새우 국내산  75%%, 천일염 국산  25%%', '새우', '알수없음','알수없음',    '젓갈', '조이씨푸드_전라남도 무안군 무안읍 무안로', '_', '1kg', 'http://fresh.haccp.or.kr/prdimg/2016/201605250373/201605250373-1.jpg', 'http://fresh.haccp.or.kr/prdimg/2016/201605250373/201605250373-2.jpg')\n",
      " 열량112kcal, 탄수화물28g  8%% , 당류26g ,나트륨25mg  1%% ','알수없음',    '혼합음료', '와이푸드테크 주 _전라남도 장흥군 장평면 피재로 465', '_', '220ml', 'http://fresh.haccp.or.kr/prdimg/2016/201605210539/201605210539-1.jpg', 'http://fresh.haccp.or.kr/prdimg/2016/201605210539/201605210539-2.jpg')수크랄로스 합성감미료 ,합성착향료 포도향 ', '알수없음', '220ml당 함량\n",
      " 열량120kcal, 탄수화물30g  9%% , 당류28g, 나트륨28mg  1%% ','알수없음',    '혼합음료', '와이푸드테크 주 _전라남도 장흥군 장평면 피재로 465', '_', '220ml', 'http://fresh.haccp.or.kr/prdimg/2016/201605210538/201605210538-1.jpg', 'http://fresh.haccp.or.kr/prdimg/2016/201605210538/201605210538-2.jpg')합성착향료 사과향,배향 ', '알수없음', '220ml당 함량\n",
      "[2020-06-11 18:51:45,235][INFO|utils.py:41] >> COMPLETE QUERY : INSERT INTO foodinfo VALUES('201605123512', '오늘쌈무와사비맛', '무60%% 국산 , 정제염 국산 , 정제수, 빙초산 합성식초 , 와사비분0.02%%,와사비후레바 합성착향료 0.02%%,구연산, 소르빈산칼륨 합성보존료 , 삭카린나트륨 합성감미료 , 그린색소PKS-3 치자청색소, 홍화황색소, 비타민C, 덱스트린 , 포도당, 비타민C, 아황산나트륨 산화방지제 ', '알수없음', '알수없음','8802847100330',    '절임류', '동화산업㈜식품사업부/전남 나주시 금천면 영산로 5751', '알수없음', '350g 고형량 210g ', 'http://fresh.haccp.or.kr/prdimg/2016/201605123512/201605123512-1.jpg', 'http://fresh.haccp.or.kr/prdimg/2016/201605123512/201605123512-2.jpg')\n"
     ]
    }
   ],
   "source": [
    "for data in haccp_dataset.values[:30]:\n",
    "    reportno, prdnm, rawmtrl, allergy, nutrient, barcode, prdkind, manu, seller, capa, img1, img2 = data\n",
    "    val = \"'{reportno}', '{prdnm}', '{rawmtrl}', '{allergy}', '{nutrient}','{barcode}',\\\n",
    "    '{prdkind}', '{manu}', '{seller}', '{capa}', '{img1}', '{img2}'\".format(reportno = reportno, prdnm = prdnm, rawmtrl = rawmtrl,\n",
    "                                                                 allergy = allergy, nutrient = nutrient, barcode = barcode,\n",
    "                                                                 prdkind = prdkind, manu=manu, seller=seller, capa=capa, img1=img1, img2=img2)\n",
    "    val = val.replace('(', ' ').replace(')', ' ').replace('%', '%%')\n",
    "    insert_query = \"INSERT INTO foodinfo VALUES({})\".format(val)\n",
    "    execute_query(conn, insert_query)"
   ]
  },
  {
   "cell_type": "code",
   "execution_count": null,
   "metadata": {},
   "outputs": [],
   "source": []
  }
 ],
 "metadata": {
  "kernelspec": {
   "display_name": "Python 3",
   "language": "python",
   "name": "python3"
  },
  "language_info": {
   "codemirror_mode": {
    "name": "ipython",
    "version": 3
   },
   "file_extension": ".py",
   "mimetype": "text/x-python",
   "name": "python",
   "nbconvert_exporter": "python",
   "pygments_lexer": "ipython3",
   "version": "3.7.7"
  }
 },
 "nbformat": 4,
 "nbformat_minor": 4
}
