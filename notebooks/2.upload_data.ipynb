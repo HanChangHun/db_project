{
 "cells": [
  {
   "cell_type": "code",
   "execution_count": 1,
   "metadata": {},
   "outputs": [],
   "source": [
    "import sys\n",
    "import json\n",
    "from pathlib import Path\n",
    "import sqlalchemy\n",
    "import pandas as pd\n",
    "from utils import * "
   ]
  },
  {
   "cell_type": "code",
   "execution_count": null,
   "metadata": {},
   "outputs": [],
   "source": [
    "queries_dir = Path('queries/')\n",
    "enum_query = read_sql(queries_dir / \"1.enum_query.sql\")\n",
    "table_query = read_sql(queries_dir / \"2.table_query.sql\")\n",
    "\n",
    "datasets_dir = Path(\"../datasets/\")\n",
    "haccp_dataset_path = datasets_dir / \"haccp_dataset_200525221016.csv\"\n",
    "veg_rest_raw_path = datasets_dir / \"VegRestrictRawMtrls.json\"\n",
    "allergy_raw_path = datasets_dir / \"AllergyRawMtrls.json\"\n",
    "\n",
    "with open(veg_rest_raw_path, encoding='utf-8') as f:\n",
    "    veg_rest_raw = json.load(f)\n",
    "    \n",
    "with open(allergy_raw_path, encoding='utf-8') as f:\n",
    "    allergy_raw = json.load(f)"
   ]
  },
  {
   "cell_type": "code",
   "execution_count": null,
   "metadata": {},
   "outputs": [],
   "source": [
    "if sys.platform.lower() == 'darwin':\n",
    "    conn = connect(user='postgres', password='0000', db='projectDB', host='localhost', port=5433)\n",
    "elif sys.platform == 'win32':\n",
    "    conn = connect(user='postgres', password='1234', db='projectDB', host='localhost', port=5432)"
   ]
  },
  {
   "cell_type": "code",
   "execution_count": null,
   "metadata": {
    "scrolled": true
   },
   "outputs": [],
   "source": [
    "initializ_db(conn)"
   ]
  },
  {
   "cell_type": "code",
   "execution_count": 5,
   "metadata": {
    "scrolled": true
   },
   "outputs": [],
   "source": [
    "execute_queries(conn, enum_query)\n",
    "execute_queries(conn, table_query)"
   ]
  },
  {
   "cell_type": "code",
   "execution_count": 6,
   "metadata": {},
   "outputs": [],
   "source": [
    "haccp_dataset = pd.read_csv(haccp_dataset_path)\n",
    "if sys.platform.lower() == 'darwin':\n",
    "    haccp_dataset = haccp_dataset.drop(['rnum', 'productgb', 'prdkindstate'], axis=1)\n",
    "elif sys.platform == 'win32':\n",
    "    haccp_dataset = haccp_dataset.drop(['Unnamed: 0', 'rnum', 'productgb', 'prdkindstate'], axis=1)"
   ]
  },
  {
   "cell_type": "code",
   "execution_count": 7,
   "metadata": {
    "scrolled": true
   },
   "outputs": [],
   "source": [
    "replace_dict = {\n",
    "    '(' : ' ',\n",
    "    ')' : ' ',\n",
    "    '%' : '%%',\n",
    "    \"'\" : '',\n",
    "    '\\n' : ' ',\n",
    "    '\\r' : ' '\n",
    "}"
   ]
  },
  {
   "cell_type": "code",
   "execution_count": 8,
   "metadata": {
    "scrolled": true
   },
   "outputs": [],
   "source": [
    "for data in haccp_dataset.values:\n",
    "    new_data = []\n",
    "    for s in data:\n",
    "        if type(s) == str:\n",
    "            for org, dst in replace_dict.items():\n",
    "                s = s.replace(org, dst)\n",
    "        new_data.append(s)\n",
    "    reportno, prdnm, rawmtrl, allergy, nutrient, barcode, prdkind, manu, seller, capa, img1, img2 = new_data\n",
    "    val = \"'{reportno}', '{prdnm}', '{rawmtrl}', '{allergy}', '{nutrient}','{barcode}',\\\n",
    "    '{prdkind}', '{manu}', '{seller}', '{capa}', '{img1}', '{img2}'\".format(reportno = reportno, prdnm = prdnm, rawmtrl = rawmtrl,\n",
    "                                                                 allergy = allergy, nutrient = nutrient, barcode = barcode,\n",
    "                                                                 prdkind = prdkind, manu=manu, seller=seller, capa=capa, img1=img1, img2=img2)\n",
    "    val = val.replace('(', ' ').replace(')', ' ').replace('%', '%%')\n",
    "    insert_query = \"INSERT INTO foodinfo VALUES({})\".format(val)\n",
    "    execute_query(conn, insert_query, log=False)"
   ]
  },
  {
   "cell_type": "code",
   "execution_count": 26,
   "metadata": {},
   "outputs": [],
   "source": [
    "# execute_query(conn, \"drop table VegRestrictRawMtrls\")\n",
    "\n",
    "# execute_query(conn, \"\"\"CREATE TABLE VegRestrictRawMtrls\n",
    "# (\n",
    "#  veg_kind veg,\n",
    "#  superRawMtrl TEXT,\n",
    "#  primary key(veg_kind)\n",
    "# );\"\"\")"
   ]
  },
  {
   "cell_type": "code",
   "execution_count": 36,
   "metadata": {},
   "outputs": [],
   "source": [
    "for veg, raw_mtrls in veg_rest_raw.items():\n",
    "    raw_mtrls = '{\"' + '\", \"'.join(raw_mtrls) + '\"}'\n",
    "    insert_query = \"INSERT INTO VegRestrictRawMtrls VALUES('{0}', '{1}')\".format(veg, raw_mtrls)\n",
    "    execute_query(conn, insert_query)"
   ]
  },
  {
   "cell_type": "code",
   "execution_count": 17,
   "metadata": {},
   "outputs": [],
   "source": [
    "# execute_query(conn, \"drop table RawMtrls\")\n",
    "\n",
    "# execute_query(conn, \"\"\"CREATE TABLE RawMtrls\n",
    "# (\n",
    "#  rawMtrl TEXT, \n",
    "#  superRawMtrl TEXT,\n",
    "#  isCrossReact BOOLEAN,\n",
    "#  ParentAllergy TEXT[],\n",
    "#  probability numeric(2,1),\n",
    "#  primary key(rawMtrl)\n",
    "# );\"\"\")"
   ]
  },
  {
   "cell_type": "code",
   "execution_count": 35,
   "metadata": {
    "scrolled": true
   },
   "outputs": [],
   "source": [
    "for sup_raw, data in allergy_raw.items():\n",
    "    raws, is_cross, parent_all, prob = data\n",
    "    raw_mtrls = '{\"' + '\", \"'.join(raws) + '\"}'\n",
    "    for raw in raws:\n",
    "        if is_cross:\n",
    "            par_raw_mtrls = '{\"' + '\", \"'.join(parent_all) + '\"}'\n",
    "            val = \"'{0}', '{1}', true, '{2}', {3}\".format(raw, sup_raw, par_raw_mtrls, prob)\n",
    "        else:\n",
    "            val = \"'{0}', '{1}', false, null, null\".format(raw, sup_raw)\n",
    "        insert_query = \"INSERT INTO RawMtrls VALUES({})\".format(val)\n",
    "        execute_query(conn, insert_query)"
   ]
  },
  {
   "cell_type": "code",
   "execution_count": 24,
   "metadata": {},
   "outputs": [],
   "source": [
    "parent_all"
   ]
  },
  {
   "cell_type": "code",
   "execution_count": 33,
   "metadata": {
    "scrolled": true
   },
   "outputs": [],
   "source": [
    "temp_set = []\n",
    "for sup_raw, data in allergy_raw.items():\n",
    "    raws, is_cross, parent_all, prob = data\n",
    "    if parent_all != None:\n",
    "        temp_set += parent_all"
   ]
  },
  {
   "cell_type": "code",
   "execution_count": 34,
   "metadata": {},
   "outputs": [
    {
     "name": "stdout",
     "output_type": "stream",
     "text": [
      "['완두콩', '렌즈콩', '대두', '보리', '호밀', '보리', '호밀', '사과', '자두', '체리', '배', '게', '바닷가재', '햄버거', '염소젖', '말젖', '헤이즐넛', '캐슈넛']\n"
     ]
    }
   ],
   "source": [
    "print(temp_set)"
   ]
  },
  {
   "cell_type": "code",
   "execution_count": null,
   "metadata": {},
   "outputs": [],
   "source": []
  }
 ],
 "metadata": {
  "kernelspec": {
   "display_name": "Python 3",
   "language": "python",
   "name": "python3"
  },
  "language_info": {
   "codemirror_mode": {
    "name": "ipython",
    "version": 3
   },
   "file_extension": ".py",
   "mimetype": "text/x-python",
   "name": "python",
   "nbconvert_exporter": "python",
   "pygments_lexer": "ipython3",
   "version": "3.7.7"
  }
 },
 "nbformat": 4,
 "nbformat_minor": 4
}
