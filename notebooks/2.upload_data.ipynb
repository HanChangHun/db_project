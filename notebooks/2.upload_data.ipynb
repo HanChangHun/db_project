{
 "cells": [
  {
   "cell_type": "code",
   "execution_count": 1,
   "metadata": {},
   "outputs": [],
   "source": [
    "import sqlalchemy\n",
    "import pandas as pd\n",
    "from IPython.core import display as ICD"
   ]
  },
  {
   "cell_type": "code",
   "execution_count": 2,
   "metadata": {},
   "outputs": [],
   "source": [
    "def connect(user='postgres', password='1234', db='mid_test', host='localhost', port=5432):\n",
    "    url = 'postgresql://{}:{}@{}:{}/{}'\n",
    "    url = url.format(user, password, host, port, db)\n",
    "    con = sqlalchemy.create_engine(url, client_encoding='utf8')\n",
    "\n",
    "    return con"
   ]
  },
  {
   "cell_type": "code",
   "execution_count": 3,
   "metadata": {},
   "outputs": [],
   "source": [
    "conn = connect()"
   ]
  },
  {
   "cell_type": "code",
   "execution_count": null,
   "metadata": {},
   "outputs": [],
   "source": [
    "table_query = \"\"\"CREATE TYPE allergy AS ENUM ('난류', '우유', '메밀', '땅콩', '대두', '쇠고기',  '밀', '고등어', '게', '새우', '돼지고기', '복숭아', '오징어', '토마토', '아황산류', '호두', '잣', '키위', '닭고기', '조개류', '참깨');\n",
    "CREATE TYPE veg AS ENUM ('vegan', 'lactoVeg', 'ovoVeg', 'lactoOvoVeg', 'pescoVeg', 'polloVeg', 'flex');\n",
    "\n",
    "CREATE TABLE FoodInfo\n",
    "(\n",
    " prdlstReportNo TEXT,\n",
    " prdlstName TEXT,\n",
    " barcode TEXT,\n",
    " aNames allergy[],\n",
    " prdKind TEXT,\n",
    " rawMtrl TEXT,\n",
    " nutrient TEXT,\n",
    " manufacture TEXT,\n",
    " seller TEXT,\n",
    " capacity TEXT,\n",
    " imgurl1 TEXT,\n",
    " imgurl2 TEXT,\n",
    " primary key(prdlstReportNo)\n",
    ");\n",
    "\n",
    "CREATE TABLE AllergyPrdKind (\n",
    " prdkind TEXT PRIMARY KEY,\n",
    " aNames allergy[],\n",
    " isCrossReact BOOL DEFAULT 't',\n",
    " parentsAllergy TEXT\n",
    ");\n",
    "\n",
    "CREATE TABLE AllergyMtrlKind (\n",
    " rawmtrl TEXT PRIMARY KEY,\n",
    " aNames allergy[],\n",
    " isCrossReact BOOL DEFAULT 't',\n",
    " parentsAllergy TEXT\n",
    ");\n",
    "\n",
    "CREATE TABLE CrossReactPrdKind (\n",
    " crossReactPrdKind TEXT PRIMARY KEY,\n",
    " aNames allergy[]\n",
    ");\n",
    "\n",
    "CREATE TABLE CrossReactRawMtrl (\n",
    " crossReactRawMtrl TEXT PRIMARY KEY,\n",
    " aNames allergy[]\n",
    ");\n",
    "\n",
    "CREATE TABLE VegRestrictPrdKind (\n",
    " restrictedPrdKind TEXT PRIMARY KEY,\n",
    " vNames veg[]\n",
    ");\n",
    "\n",
    "CREATE TABLE VegRestrictRawMtrl (\n",
    " restrictedRawMtrl TEXT PRIMARY KEY,\n",
    " vNames veg[]\n",
    ");\n",
    "\n",
    "CREATE TYPE gen AS ENUM ('f', 'm');\n",
    "\n",
    "CREATE TABLE User (\n",
    " userID TEXT PRIMARY KEY,\n",
    " name TEXT,\n",
    " gender gen,\n",
    " age INT,\n",
    " allergy VARCHAR(255)[],\n",
    " vName veg\n",
    ");\n",
    "\n",
    "CREATE TABLE DietManage (\n",
    " userID TEXT PRIMARY KEY,\n",
    " date DATE NOT NULL DEFAULT CURRENT_DATE,\n",
    " eatenFood VARCHAR(255)[]\n",
    ");\n",
    "\"\"\"\n",
    "\n",
    "for q in table_query.split(';')[:-1]:\n",
    "    conn.execute(q)"
   ]
  }
 ],
 "metadata": {
  "kernelspec": {
   "display_name": "Python 3",
   "language": "python",
   "name": "python3"
  },
  "language_info": {
   "codemirror_mode": {
    "name": "ipython",
    "version": 3
   },
   "file_extension": ".py",
   "mimetype": "text/x-python",
   "name": "python",
   "nbconvert_exporter": "python",
   "pygments_lexer": "ipython3",
   "version": "3.7.7"
  }
 },
 "nbformat": 4,
 "nbformat_minor": 4
}
