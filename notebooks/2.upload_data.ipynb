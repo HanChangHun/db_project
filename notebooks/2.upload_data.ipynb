{
 "cells": [
  {
   "cell_type": "code",
   "execution_count": 16,
   "metadata": {},
   "outputs": [],
   "source": [
    "import sys\n",
    "import json\n",
    "from pathlib import Path\n",
    "import sqlalchemy\n",
    "import pandas as pd\n",
    "from utils import * \n",
    "from tqdm.notebook import tqdm"
   ]
  },
  {
   "cell_type": "code",
   "execution_count": 17,
   "metadata": {},
   "outputs": [],
   "source": [
    "queries_dir = Path('queries/')\n",
    "enum_query = read_sql(queries_dir / \"1.enum_query.sql\")\n",
    "table_query = read_sql(queries_dir / \"3.table_query.sql\")\n",
    "\n",
    "datasets_dir = Path(\"../datasets/\")\n",
    "haccp_dataset_path = datasets_dir / \"haccp_dataset_200619142700.csv\"\n",
    "veg_prdkind_path = datasets_dir / \"VegPrdKind_200619145823.csv\"\n",
    "all_prdkind_path = datasets_dir / \"AllergyPrdKind_200619145823.csv\"\n",
    "veg_rawmtrl_path = datasets_dir / \"VegRawMtrl_200619145823.csv\"\n",
    "all_rawmtrl_path = datasets_dir / \"AllergyRawMtrl_200619145823.csv\""
   ]
  },
  {
   "cell_type": "code",
   "execution_count": 18,
   "metadata": {},
   "outputs": [],
   "source": [
    "haccp_dataset_path = datasets_dir / \"haccp_dataset_200619151811.csv\""
   ]
  },
  {
   "cell_type": "code",
   "execution_count": 19,
   "metadata": {},
   "outputs": [],
   "source": [
    "haccp_dataset = pd.read_csv(haccp_dataset_path)\n",
    "haccp_dataset = haccp_dataset.drop(['rnum', 'productgb', 'prdkindstate'], axis=1)"
   ]
  },
  {
   "cell_type": "code",
   "execution_count": 20,
   "metadata": {},
   "outputs": [
    {
     "data": {
      "text/html": [
       "<div>\n",
       "<style scoped>\n",
       "    .dataframe tbody tr th:only-of-type {\n",
       "        vertical-align: middle;\n",
       "    }\n",
       "\n",
       "    .dataframe tbody tr th {\n",
       "        vertical-align: top;\n",
       "    }\n",
       "\n",
       "    .dataframe thead th {\n",
       "        text-align: right;\n",
       "    }\n",
       "</style>\n",
       "<table border=\"1\" class=\"dataframe\">\n",
       "  <thead>\n",
       "    <tr style=\"text-align: right;\">\n",
       "      <th></th>\n",
       "      <th>prdlstreportno</th>\n",
       "      <th>prdlstnm</th>\n",
       "      <th>rawmtrl</th>\n",
       "      <th>allergy</th>\n",
       "      <th>nutrient</th>\n",
       "      <th>barcode</th>\n",
       "      <th>prdkind</th>\n",
       "      <th>manufacture</th>\n",
       "      <th>seller</th>\n",
       "      <th>capacity</th>\n",
       "      <th>imgurl1</th>\n",
       "      <th>imgurl2</th>\n",
       "    </tr>\n",
       "  </thead>\n",
       "  <tbody>\n",
       "    <tr>\n",
       "      <th>0</th>\n",
       "      <td>201705484642</td>\n",
       "      <td>국산콩두부두모</td>\n",
       "      <td>대두100%(국산),천연원료식물성유산균천일염응고제(조제해수염화마그네슘,현미유,식물성...</td>\n",
       "      <td>알수없음</td>\n",
       "      <td>100g당/총 내용량 300g\\n열량 80kcal, 나트륨 0% 0mg, 탄수화물 ...</td>\n",
       "      <td>8801024949960</td>\n",
       "      <td>두부</td>\n",
       "      <td>대상㈜구미공장_경상북도 구미시 산동면 첨단기업5로 48-38</td>\n",
       "      <td>대상㈜횡성공장_강원도 횡성군 횡성읍 청용길 15</td>\n",
       "      <td>300g</td>\n",
       "      <td>http://fresh.haccp.or.kr/prdimg/2017/201705484...</td>\n",
       "      <td>http://fresh.haccp.or.kr/prdimg/2017/201705484...</td>\n",
       "    </tr>\n",
       "    <tr>\n",
       "      <th>1</th>\n",
       "      <td>201705484641</td>\n",
       "      <td>국산콩고소한두부</td>\n",
       "      <td>대두100%(국산), 천연원료식물성유산균천일염응고제(조제해수염화마그네슘, 현미유, ...</td>\n",
       "      <td>대두</td>\n",
       "      <td>100g당 / 총 내용량 400g\\n열량80kcal, 나트륨0mg 0%, 탄수화물1...</td>\n",
       "      <td>8801024051519</td>\n",
       "      <td>두부</td>\n",
       "      <td>대상㈜ 구미공장_경상북도 구미시 산동면 첨단기업5로 48-38</td>\n",
       "      <td>대상㈜ 횡성공장_강원도 횡성군 횡성읍 청용길 15</td>\n",
       "      <td>400g(320kcal)</td>\n",
       "      <td>http://fresh.haccp.or.kr/prdimg/2017/201705484...</td>\n",
       "      <td>http://fresh.haccp.or.kr/prdimg/2017/201705484...</td>\n",
       "    </tr>\n",
       "    <tr>\n",
       "      <th>2</th>\n",
       "      <td>201705037815</td>\n",
       "      <td>목포미항 재래김</td>\n",
       "      <td>재래김65%,옥배유(수입산30.4%),참기름(인도산2%),천일염(국내산2%),생강0...</td>\n",
       "      <td>알수없음</td>\n",
       "      <td>알수없음</td>\n",
       "      <td>알수없음</td>\n",
       "      <td>조미김</td>\n",
       "      <td>유한회사 청해에스앤에프_전남 목포시 전라남도 목포시 대양산단로125번길 139 (대양동)</td>\n",
       "      <td>_</td>\n",
       "      <td>20g(100kcal)</td>\n",
       "      <td>http://fresh.haccp.or.kr/prdimg/2017/201705037...</td>\n",
       "      <td>http://fresh.haccp.or.kr/prdimg/2017/201705037...</td>\n",
       "    </tr>\n",
       "    <tr>\n",
       "      <th>3</th>\n",
       "      <td>201704902541</td>\n",
       "      <td>빛깔좋은 고춧가루</td>\n",
       "      <td>건고추(국산)100%</td>\n",
       "      <td>알수없음</td>\n",
       "      <td>알수없음</td>\n",
       "      <td>알수없음</td>\n",
       "      <td>고춧가루</td>\n",
       "      <td>농업회사법인(유)청림_전라북도 정읍시 소성면 식품특화로 53</td>\n",
       "      <td>_</td>\n",
       "      <td>1kg</td>\n",
       "      <td>http://fresh.haccp.or.kr/prdimg/2017/201704902...</td>\n",
       "      <td>http://fresh.haccp.or.kr/prdimg/2017/201704902...</td>\n",
       "    </tr>\n",
       "    <tr>\n",
       "      <th>4</th>\n",
       "      <td>201704760012</td>\n",
       "      <td>미소담은 돈까스</td>\n",
       "      <td>돼지고기68.95%(국내산),우리밀빵가루[밀가루89%(국내산),해바라기유(수입산),...</td>\n",
       "      <td>돼지고기,밀 함유</td>\n",
       "      <td>알수없음</td>\n",
       "      <td>8809549135325</td>\n",
       "      <td>분쇄가공육제품</td>\n",
       "      <td>㈜그린팜푸드 농업회사법인 전주완주군봉동읍은하율소로179-47</td>\n",
       "      <td>㈜그린팜푸드 농업회사법인 전주완주군봉동읍은하율소로179-47</td>\n",
       "      <td>480g</td>\n",
       "      <td>http://fresh.haccp.or.kr/prdimg/2017/201704760...</td>\n",
       "      <td>http://fresh.haccp.or.kr/prdimg/2017/201704760...</td>\n",
       "    </tr>\n",
       "    <tr>\n",
       "      <th>...</th>\n",
       "      <td>...</td>\n",
       "      <td>...</td>\n",
       "      <td>...</td>\n",
       "      <td>...</td>\n",
       "      <td>...</td>\n",
       "      <td>...</td>\n",
       "      <td>...</td>\n",
       "      <td>...</td>\n",
       "      <td>...</td>\n",
       "      <td>...</td>\n",
       "      <td>...</td>\n",
       "      <td>...</td>\n",
       "    </tr>\n",
       "    <tr>\n",
       "      <th>195</th>\n",
       "      <td>201505020125</td>\n",
       "      <td>유레카목장 숙성치즈</td>\n",
       "      <td>우유(국산/유레카목장)99%,유산균</td>\n",
       "      <td>알수없음</td>\n",
       "      <td>1회 제공량(100g)당 함량/총 1회 제공량(100g) 열량 419kcal, 탄수...</td>\n",
       "      <td>8809457540075</td>\n",
       "      <td>반경성치즈</td>\n",
       "      <td>유레카영농조합법인 전남 영광읍 월현로 1길 154-30/(061)351-7717</td>\n",
       "      <td>유레카영농조합법인 전남 영광읍 월현로 1길 154-30/(061)351-7717</td>\n",
       "      <td>100g</td>\n",
       "      <td>http://fresh.haccp.or.kr/prdimg/2015/201505020...</td>\n",
       "      <td>http://fresh.haccp.or.kr/prdimg/2015/201505020...</td>\n",
       "    </tr>\n",
       "    <tr>\n",
       "      <th>196</th>\n",
       "      <td>201505020016</td>\n",
       "      <td>청밀원산양유</td>\n",
       "      <td>산양유100%</td>\n",
       "      <td>알수없음</td>\n",
       "      <td>알수없음</td>\n",
       "      <td>알수없음</td>\n",
       "      <td>유제품류</td>\n",
       "      <td>청밀원 전라남도 나주시</td>\n",
       "      <td>알수없음</td>\n",
       "      <td>500ml</td>\n",
       "      <td>http://fresh.haccp.or.kr/prdimg/2015/201505020...</td>\n",
       "      <td>http://fresh.haccp.or.kr/prdimg/2015/201505020...</td>\n",
       "    </tr>\n",
       "    <tr>\n",
       "      <th>197</th>\n",
       "      <td>201505020015</td>\n",
       "      <td>청밀원산양유플레인요구르트</td>\n",
       "      <td>산양유 등</td>\n",
       "      <td>알수없음</td>\n",
       "      <td>알수없음</td>\n",
       "      <td>알수없음</td>\n",
       "      <td>유제품류</td>\n",
       "      <td>청밀원</td>\n",
       "      <td>알수없음</td>\n",
       "      <td>150ml</td>\n",
       "      <td>http://fresh.haccp.or.kr/prdimg/2015/201505020...</td>\n",
       "      <td>http://fresh.haccp.or.kr/prdimg/2015/201505020...</td>\n",
       "    </tr>\n",
       "    <tr>\n",
       "      <th>198</th>\n",
       "      <td>201505020014</td>\n",
       "      <td>청밀원산양유블루베리요구르트</td>\n",
       "      <td>산양유 등</td>\n",
       "      <td>알수없음</td>\n",
       "      <td>알수없음</td>\n",
       "      <td>알수없음</td>\n",
       "      <td>유제품류</td>\n",
       "      <td>청밀원</td>\n",
       "      <td>알수없음</td>\n",
       "      <td>150ml</td>\n",
       "      <td>http://fresh.haccp.or.kr/prdimg/2015/201505020...</td>\n",
       "      <td>http://fresh.haccp.or.kr/prdimg/2015/201505020...</td>\n",
       "    </tr>\n",
       "    <tr>\n",
       "      <th>199</th>\n",
       "      <td>201505020013</td>\n",
       "      <td>청밀원산양유딸기요구르트</td>\n",
       "      <td>산양유 등</td>\n",
       "      <td>알수없음</td>\n",
       "      <td>알수없음</td>\n",
       "      <td>알수없음</td>\n",
       "      <td>유제품류</td>\n",
       "      <td>청밀원</td>\n",
       "      <td>알수없음</td>\n",
       "      <td>500ml</td>\n",
       "      <td>http://fresh.haccp.or.kr/prdimg/2015/201505020...</td>\n",
       "      <td>http://fresh.haccp.or.kr/prdimg/2015/201505020...</td>\n",
       "    </tr>\n",
       "  </tbody>\n",
       "</table>\n",
       "<p>200 rows × 12 columns</p>\n",
       "</div>"
      ],
      "text/plain": [
       "     prdlstreportno        prdlstnm  \\\n",
       "0      201705484642         국산콩두부두모   \n",
       "1      201705484641        국산콩고소한두부   \n",
       "2      201705037815        목포미항 재래김   \n",
       "3      201704902541       빛깔좋은 고춧가루   \n",
       "4      201704760012        미소담은 돈까스   \n",
       "..              ...             ...   \n",
       "195    201505020125      유레카목장 숙성치즈   \n",
       "196    201505020016          청밀원산양유   \n",
       "197    201505020015   청밀원산양유플레인요구르트   \n",
       "198    201505020014  청밀원산양유블루베리요구르트   \n",
       "199    201505020013    청밀원산양유딸기요구르트   \n",
       "\n",
       "                                               rawmtrl    allergy  \\\n",
       "0    대두100%(국산),천연원료식물성유산균천일염응고제(조제해수염화마그네슘,현미유,식물성...       알수없음   \n",
       "1    대두100%(국산), 천연원료식물성유산균천일염응고제(조제해수염화마그네슘, 현미유, ...         대두   \n",
       "2    재래김65%,옥배유(수입산30.4%),참기름(인도산2%),천일염(국내산2%),생강0...       알수없음   \n",
       "3                                          건고추(국산)100%       알수없음   \n",
       "4    돼지고기68.95%(국내산),우리밀빵가루[밀가루89%(국내산),해바라기유(수입산),...  돼지고기,밀 함유   \n",
       "..                                                 ...        ...   \n",
       "195                                우유(국산/유레카목장)99%,유산균       알수없음   \n",
       "196                                            산양유100%       알수없음   \n",
       "197                                              산양유 등       알수없음   \n",
       "198                                              산양유 등       알수없음   \n",
       "199                                              산양유 등       알수없음   \n",
       "\n",
       "                                              nutrient         barcode  \\\n",
       "0    100g당/총 내용량 300g\\n열량 80kcal, 나트륨 0% 0mg, 탄수화물 ...  8801024949960    \n",
       "1    100g당 / 총 내용량 400g\\n열량80kcal, 나트륨0mg 0%, 탄수화물1...  8801024051519    \n",
       "2                                                 알수없음            알수없음   \n",
       "3                                                 알수없음            알수없음   \n",
       "4                                                 알수없음  8809549135325    \n",
       "..                                                 ...             ...   \n",
       "195  1회 제공량(100g)당 함량/총 1회 제공량(100g) 열량 419kcal, 탄수...  8809457540075    \n",
       "196                                               알수없음            알수없음   \n",
       "197                                               알수없음            알수없음   \n",
       "198                                               알수없음            알수없음   \n",
       "199                                               알수없음            알수없음   \n",
       "\n",
       "     prdkind                                        manufacture  \\\n",
       "0         두부                  대상㈜구미공장_경상북도 구미시 산동면 첨단기업5로 48-38   \n",
       "1         두부                 대상㈜ 구미공장_경상북도 구미시 산동면 첨단기업5로 48-38   \n",
       "2        조미김  유한회사 청해에스앤에프_전남 목포시 전라남도 목포시 대양산단로125번길 139 (대양동)   \n",
       "3       고춧가루                  농업회사법인(유)청림_전라북도 정읍시 소성면 식품특화로 53   \n",
       "4    분쇄가공육제품                  ㈜그린팜푸드 농업회사법인 전주완주군봉동읍은하율소로179-47   \n",
       "..       ...                                                ...   \n",
       "195    반경성치즈       유레카영농조합법인 전남 영광읍 월현로 1길 154-30/(061)351-7717   \n",
       "196     유제품류                                       청밀원 전라남도 나주시   \n",
       "197     유제품류                                                청밀원   \n",
       "198     유제품류                                                청밀원   \n",
       "199     유제품류                                                청밀원   \n",
       "\n",
       "                                           seller       capacity  \\\n",
       "0                      대상㈜횡성공장_강원도 횡성군 횡성읍 청용길 15           300g   \n",
       "1                     대상㈜ 횡성공장_강원도 횡성군 횡성읍 청용길 15  400g(320kcal)   \n",
       "2                                               _   20g(100kcal)   \n",
       "3                                               _            1kg   \n",
       "4               ㈜그린팜푸드 농업회사법인 전주완주군봉동읍은하율소로179-47           480g   \n",
       "..                                            ...            ...   \n",
       "195  유레카영농조합법인 전남 영광읍 월현로 1길 154-30/(061)351-7717           100g   \n",
       "196                                          알수없음          500ml   \n",
       "197                                          알수없음          150ml   \n",
       "198                                          알수없음          150ml   \n",
       "199                                          알수없음          500ml   \n",
       "\n",
       "                                               imgurl1  \\\n",
       "0    http://fresh.haccp.or.kr/prdimg/2017/201705484...   \n",
       "1    http://fresh.haccp.or.kr/prdimg/2017/201705484...   \n",
       "2    http://fresh.haccp.or.kr/prdimg/2017/201705037...   \n",
       "3    http://fresh.haccp.or.kr/prdimg/2017/201704902...   \n",
       "4    http://fresh.haccp.or.kr/prdimg/2017/201704760...   \n",
       "..                                                 ...   \n",
       "195  http://fresh.haccp.or.kr/prdimg/2015/201505020...   \n",
       "196  http://fresh.haccp.or.kr/prdimg/2015/201505020...   \n",
       "197  http://fresh.haccp.or.kr/prdimg/2015/201505020...   \n",
       "198  http://fresh.haccp.or.kr/prdimg/2015/201505020...   \n",
       "199  http://fresh.haccp.or.kr/prdimg/2015/201505020...   \n",
       "\n",
       "                                               imgurl2  \n",
       "0    http://fresh.haccp.or.kr/prdimg/2017/201705484...  \n",
       "1    http://fresh.haccp.or.kr/prdimg/2017/201705484...  \n",
       "2    http://fresh.haccp.or.kr/prdimg/2017/201705037...  \n",
       "3    http://fresh.haccp.or.kr/prdimg/2017/201704902...  \n",
       "4    http://fresh.haccp.or.kr/prdimg/2017/201704760...  \n",
       "..                                                 ...  \n",
       "195  http://fresh.haccp.or.kr/prdimg/2015/201505020...  \n",
       "196  http://fresh.haccp.or.kr/prdimg/2015/201505020...  \n",
       "197  http://fresh.haccp.or.kr/prdimg/2015/201505020...  \n",
       "198  http://fresh.haccp.or.kr/prdimg/2015/201505020...  \n",
       "199  http://fresh.haccp.or.kr/prdimg/2015/201505020...  \n",
       "\n",
       "[200 rows x 12 columns]"
      ]
     },
     "execution_count": 20,
     "metadata": {},
     "output_type": "execute_result"
    }
   ],
   "source": [
    "haccp_dataset"
   ]
  },
  {
   "cell_type": "code",
   "execution_count": 3,
   "metadata": {},
   "outputs": [],
   "source": [
    "if sys.platform.lower() == 'darwin':\n",
    "    conn = connect(user='postgres', password='0000', db='projectDB', host='localhost', port=5433)\n",
    "elif sys.platform == 'win32':\n",
    "    conn = connect(user='postgres', password='1234', db='projectDB', host='localhost', port=5432)"
   ]
  },
  {
   "cell_type": "code",
   "execution_count": 4,
   "metadata": {
    "scrolled": true
   },
   "outputs": [],
   "source": [
    "initializ_db(conn)"
   ]
  },
  {
   "cell_type": "code",
   "execution_count": 5,
   "metadata": {
    "scrolled": true
   },
   "outputs": [],
   "source": [
    "execute_queries(conn, enum_query)\n",
    "execute_queries(conn, table_query)"
   ]
  },
  {
   "cell_type": "code",
   "execution_count": 6,
   "metadata": {},
   "outputs": [],
   "source": [
    "haccp_dataset = pd.read_csv(haccp_dataset_path)\n",
    "haccp_dataset = haccp_dataset.drop(['rnum', 'productgb', 'prdkindstate'], axis=1)\n",
    "    \n",
    "veg_prdkind = pd.read_csv(veg_prdkind_path)\n",
    "all_prdkind = pd.read_csv(all_prdkind_path)\n",
    "veg_rawmtrl = pd.read_csv(veg_rawmtrl_path)\n",
    "all_rawmtrl = pd.read_csv(all_rawmtrl_path)"
   ]
  },
  {
   "cell_type": "code",
   "execution_count": 7,
   "metadata": {
    "scrolled": true
   },
   "outputs": [],
   "source": [
    "replace_dict = {\n",
    "    '(' : ' ',\n",
    "    ')' : ' ',\n",
    "    '%' : '%%',\n",
    "    \"'\" : '',\n",
    "    '\\n' : ' ',\n",
    "    '\\r' : ' '\n",
    "}"
   ]
  },
  {
   "cell_type": "code",
   "execution_count": 15,
   "metadata": {
    "scrolled": true
   },
   "outputs": [
    {
     "data": {
      "application/vnd.jupyter.widget-view+json": {
       "model_id": "13f3ce4d10cc482d97e3bb54dd0cba79",
       "version_major": 2,
       "version_minor": 0
      },
      "text/plain": [
       "HBox(children=(FloatProgress(value=0.0, max=15461.0), HTML(value='')))"
      ]
     },
     "metadata": {},
     "output_type": "display_data"
    },
    {
     "name": "stdout",
     "output_type": "stream",
     "text": [
      "\n"
     ]
    }
   ],
   "source": [
    "for data in tqdm(haccp_dataset.values):\n",
    "    new_data = []\n",
    "    for s in data:\n",
    "        if type(s) == str:\n",
    "            for org, dst in replace_dict.items():\n",
    "                s = s.replace(org, dst)\n",
    "        new_data.append(s)\n",
    "    reportno, prdnm, rawmtrl, allergy, nutrient, barcode, prdkind, manu, seller, capa, img1, img2 = new_data\n",
    "    val = \"'{reportno}', '{prdnm}', '{rawmtrl}', '{allergy}', '{nutrient}','{barcode}',\\\n",
    "    '{prdkind}', '{manu}', '{seller}', '{capa}', '{img1}', '{img2}'\".format(reportno = reportno, prdnm = prdnm, rawmtrl = rawmtrl,\n",
    "                                                                 allergy = allergy, nutrient = nutrient, barcode = barcode,\n",
    "                                                                 prdkind = prdkind, manu=manu, seller=seller, capa=capa, img1=img1, img2=img2)\n",
    "    insert_query = \"INSERT INTO foodinfo VALUES({})\".format(val)\n",
    "    execute_query(conn, insert_query)"
   ]
  },
  {
   "cell_type": "code",
   "execution_count": 11,
   "metadata": {},
   "outputs": [
    {
     "data": {
      "application/vnd.jupyter.widget-view+json": {
       "model_id": "b775da80c7374333b0a7623c01c833d3",
       "version_major": 2,
       "version_minor": 0
      },
      "text/plain": [
       "HBox(children=(FloatProgress(value=0.0, max=581.0), HTML(value='')))"
      ]
     },
     "metadata": {},
     "output_type": "display_data"
    },
    {
     "name": "stdout",
     "output_type": "stream",
     "text": [
      "\n"
     ]
    }
   ],
   "source": [
    "for data in tqdm(veg_prdkind.values):\n",
    "    new_data = []\n",
    "    for s in data:\n",
    "        if type(s) == str:\n",
    "            for org, dst in replace_dict.items():\n",
    "                s = s.replace(org, dst)\n",
    "        new_data.append(s)\n",
    "    prdKind, vegan, lactoVeg, ovoVeg, lactoOvoVeg, pescoVeg, polloVeg = new_data\n",
    "    val = \"'{}', '{}', '{}', '{}',' {}', '{}', '{}'\".format(prdKind, vegan, lactoVeg, ovoVeg, lactoOvoVeg, pescoVeg, polloVeg)\n",
    "    insert_query = \"INSERT INTO VegPrdKind VALUES({})\".format(val)\n",
    "    execute_query(conn, insert_query, log=False)"
   ]
  },
  {
   "cell_type": "code",
   "execution_count": 12,
   "metadata": {},
   "outputs": [
    {
     "data": {
      "application/vnd.jupyter.widget-view+json": {
       "model_id": "eebe08a4e37d457a9dfc2bd3948073d5",
       "version_major": 2,
       "version_minor": 0
      },
      "text/plain": [
       "HBox(children=(FloatProgress(value=0.0, max=2652.0), HTML(value='')))"
      ]
     },
     "metadata": {},
     "output_type": "display_data"
    },
    {
     "name": "stdout",
     "output_type": "stream",
     "text": [
      "\n"
     ]
    }
   ],
   "source": [
    "for data in tqdm(veg_rawmtrl.values):\n",
    "    new_data = []\n",
    "    for s in data:\n",
    "        if type(s) == str:\n",
    "            for org, dst in replace_dict.items():\n",
    "                s = s.replace(org, dst)\n",
    "        new_data.append(s)\n",
    "    rawMtrl, vegan, lactoVeg, ovoVeg, lactoOvoVeg, pescoVeg, polloVeg = new_data\n",
    "    val = \"'{}', '{}', '{}', '{}',' {}', '{}', '{}'\".format(rawMtrl, vegan, lactoVeg, ovoVeg, lactoOvoVeg, pescoVeg, polloVeg)\n",
    "    insert_query = \"INSERT INTO VegRawMtrl VALUES({})\".format(val)\n",
    "    execute_query(conn, insert_query, log=False)"
   ]
  },
  {
   "cell_type": "code",
   "execution_count": 13,
   "metadata": {},
   "outputs": [
    {
     "data": {
      "application/vnd.jupyter.widget-view+json": {
       "model_id": "3b1740a7d0db47ffae0e3b0e0697ec5f",
       "version_major": 2,
       "version_minor": 0
      },
      "text/plain": [
       "HBox(children=(FloatProgress(value=0.0, max=581.0), HTML(value='')))"
      ]
     },
     "metadata": {},
     "output_type": "display_data"
    },
    {
     "name": "stdout",
     "output_type": "stream",
     "text": [
      "\n"
     ]
    }
   ],
   "source": [
    "for data in tqdm(all_prdkind.values):\n",
    "    new_data = []\n",
    "    for s in data:\n",
    "        if type(s) == str:\n",
    "            for org, dst in replace_dict.items():\n",
    "                s = s.replace(org, dst)\n",
    "        new_data.append(s)\n",
    "    prdKind, allergy, isCrossReact, parentAllergy, probablility = new_data\n",
    "    val = \"'{}', '{}', '{}', '{}'\".format(prdKind, allergy, isCrossReact, parentAllergy, probablility)\n",
    "    insert_query = \"INSERT INTO AllergyPrdKind VALUES({})\".format(val)\n",
    "    execute_query(conn, insert_query, log=False)"
   ]
  },
  {
   "cell_type": "code",
   "execution_count": 14,
   "metadata": {},
   "outputs": [
    {
     "data": {
      "application/vnd.jupyter.widget-view+json": {
       "model_id": "e1ecf1a8881242f09eb202f69c32f2d4",
       "version_major": 2,
       "version_minor": 0
      },
      "text/plain": [
       "HBox(children=(FloatProgress(value=0.0, max=2652.0), HTML(value='')))"
      ]
     },
     "metadata": {},
     "output_type": "display_data"
    },
    {
     "name": "stdout",
     "output_type": "stream",
     "text": [
      "\n"
     ]
    }
   ],
   "source": [
    "for data in tqdm(all_rawmtrl.values):\n",
    "    new_data = []\n",
    "    for s in data:\n",
    "        if type(s) == str:\n",
    "            for org, dst in replace_dict.items():\n",
    "                s = s.replace(org, dst)\n",
    "        new_data.append(s)\n",
    "    rawMtrl, allergy, isCrossReact, parentAllergy, probablility = new_data\n",
    "    val = \"'{}', '{}', '{}', '{}', '{}'\".format(rawMtrl, allergy, isCrossReact, parentAllergy, probablility)\n",
    "    insert_query = \"INSERT INTO AllergyRawMtrl VALUES({})\".format(val)\n",
    "    execute_query(conn, insert_query, log=False)"
   ]
  },
  {
   "cell_type": "code",
   "execution_count": null,
   "metadata": {},
   "outputs": [],
   "source": []
  },
  {
   "cell_type": "code",
   "execution_count": null,
   "metadata": {},
   "outputs": [],
   "source": []
  },
  {
   "cell_type": "code",
   "execution_count": null,
   "metadata": {},
   "outputs": [],
   "source": []
  }
 ],
 "metadata": {
  "kernelspec": {
   "display_name": "Python 3",
   "language": "python",
   "name": "python3"
  },
  "language_info": {
   "codemirror_mode": {
    "name": "ipython",
    "version": 3
   },
   "file_extension": ".py",
   "mimetype": "text/x-python",
   "name": "python",
   "nbconvert_exporter": "python",
   "pygments_lexer": "ipython3",
   "version": "3.7.7"
  }
 },
 "nbformat": 4,
 "nbformat_minor": 4
}
