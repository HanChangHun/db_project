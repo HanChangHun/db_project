{
 "cells": [
  {
   "cell_type": "code",
   "execution_count": 1,
   "metadata": {},
   "outputs": [],
   "source": [
    "from pathlib import Path\n",
    "import sqlalchemy\n",
    "import pandas as pd\n",
    "from utils import * "
   ]
  },
  {
   "cell_type": "code",
   "execution_count": 2,
   "metadata": {},
   "outputs": [],
   "source": [
    "queries_dir = Path('queries/')\n",
    "enum_query = read_sql(queries_dir / \"1.enum_query.sql\")\n",
    "table_query = read_sql(queries_dir / \"2.table_query.sql\")\n",
    "\n",
    "datasets_dir = Path(\"../datasets/\")\n",
    "haccp_dataset_path = datasets_dir / \"haccp_dataset_200525221016.csv\""
   ]
  },
  {
   "cell_type": "code",
   "execution_count": 3,
   "metadata": {},
   "outputs": [],
   "source": [
    "conn = connect()"
   ]
  },
  {
   "cell_type": "code",
   "execution_count": 4,
   "metadata": {
    "scrolled": true
   },
   "outputs": [],
   "source": [
    "initializ_db(conn)"
   ]
  },
  {
   "cell_type": "code",
   "execution_count": 5,
   "metadata": {
    "scrolled": true
   },
   "outputs": [],
   "source": [
    "execute_queries(conn, enum_query)\n",
    "execute_queries(conn, table_query)"
   ]
  },
  {
   "cell_type": "code",
   "execution_count": 7,
   "metadata": {
    "scrolled": true
   },
   "outputs": [
    {
     "ename": "NameError",
     "evalue": "name 'haccp_dataset' is not defined",
     "output_type": "error",
     "traceback": [
      "\u001b[0;31m---------------------------------------------------------------------------\u001b[0m",
      "\u001b[0;31mNameError\u001b[0m                                 Traceback (most recent call last)",
      "\u001b[0;32m<ipython-input-7-f7fde621c555>\u001b[0m in \u001b[0;36m<module>\u001b[0;34m\u001b[0m\n\u001b[0;32m----> 1\u001b[0;31m \u001b[0mhaccp_dataset\u001b[0m\u001b[0;34m.\u001b[0m\u001b[0mhead\u001b[0m\u001b[0;34m(\u001b[0m\u001b[0;34m)\u001b[0m\u001b[0;34m\u001b[0m\u001b[0;34m\u001b[0m\u001b[0m\n\u001b[0m",
      "\u001b[0;31mNameError\u001b[0m: name 'haccp_dataset' is not defined"
     ]
    }
   ],
   "source": [
    "haccp_dataset.head()"
   ]
  },
  {
   "cell_type": "code",
   "execution_count": 8,
   "metadata": {},
   "outputs": [],
   "source": [
    "haccp_dataset = pd.read_csv(haccp_dataset_path)\n",
    "haccp_dataset = haccp_dataset.drop(['rnum', 'productgb', 'prdkindstate'], axis=1)"
   ]
  },
  {
   "cell_type": "code",
   "execution_count": 9,
   "metadata": {
    "scrolled": true
   },
   "outputs": [],
   "source": [
    "replace_dict = {\n",
    "    '(' : ' ',\n",
    "    ')' : ' ',\n",
    "    '%' : '%%',\n",
    "    \"'\" : '',\n",
    "    '\\n' : ' ',\n",
    "    '\\r' : ' '\n",
    "}\n",
    "for data in haccp_dataset.values:\n",
    "    new_data = []\n",
    "    for s in data:\n",
    "        if type(s) == str:\n",
    "            for org, dst in replace_dict.items():\n",
    "                s = s.replace(org, dst)\n",
    "        new_data.append(s)\n",
    "    reportno, prdnm, rawmtrl, allergy, nutrient, barcode, prdkind, manu, seller, capa, img1, img2 = new_data\n",
    "    val = \"'{reportno}', '{prdnm}', '{rawmtrl}', '{allergy}', '{nutrient}','{barcode}',\\\n",
    "    '{prdkind}', '{manu}', '{seller}', '{capa}', '{img1}', '{img2}'\".format(reportno = reportno, prdnm = prdnm, rawmtrl = rawmtrl,\n",
    "                                                                 allergy = allergy, nutrient = nutrient, barcode = barcode,\n",
    "                                                                 prdkind = prdkind, manu=manu, seller=seller, capa=capa, img1=img1, img2=img2)\n",
    "    val = val.replace('(', ' ').replace(')', ' ').replace('%', '%%')\n",
    "    insert_query = \"INSERT INTO foodinfo VALUES({})\".format(val)\n",
    "    execute_query(conn, insert_query)"
   ]
  },
  {
   "cell_type": "code",
   "execution_count": null,
   "metadata": {},
   "outputs": [],
   "source": []
  },
  {
   "cell_type": "code",
   "execution_count": null,
   "metadata": {},
   "outputs": [],
   "source": []
  }
 ],
 "metadata": {
  "kernelspec": {
   "display_name": "Python 3",
   "language": "python",
   "name": "python3"
  },
  "language_info": {
   "codemirror_mode": {
    "name": "ipython",
    "version": 3
   },
   "file_extension": ".py",
   "mimetype": "text/x-python",
   "name": "python",
   "nbconvert_exporter": "python",
   "pygments_lexer": "ipython3",
   "version": "3.7.6"
  }
 },
 "nbformat": 4,
 "nbformat_minor": 4
}
