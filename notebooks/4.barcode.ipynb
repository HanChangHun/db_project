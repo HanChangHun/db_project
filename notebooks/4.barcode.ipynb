{
 "cells": [
  {
   "cell_type": "code",
   "execution_count": 1,
   "metadata": {},
   "outputs": [],
   "source": [
    "import cv2\n",
    "import numpy as np\n",
    "from pathlib import Path\n",
    "from pyzbar import pyzbar"
   ]
  },
  {
   "cell_type": "code",
   "execution_count": 2,
   "metadata": {},
   "outputs": [],
   "source": [
    "def show(image):\n",
    "    cv2.imshow('title', image)\n",
    "    cv2.waitKey(0)\n",
    "    cv2.destroyAllWindows()"
   ]
  },
  {
   "cell_type": "code",
   "execution_count": 3,
   "metadata": {},
   "outputs": [],
   "source": [
    "image_dir = Path('images')\n",
    "images = list(map(str, image_dir.glob('*')))"
   ]
  },
  {
   "cell_type": "code",
   "execution_count": 4,
   "metadata": {},
   "outputs": [],
   "source": [
    "image = cv2.imread(images[0])\n",
    "show(image)"
   ]
  },
  {
   "cell_type": "code",
   "execution_count": 5,
   "metadata": {},
   "outputs": [],
   "source": [
    "barcodes = pyzbar.decode(image)\n",
    "\n",
    "for barcode in barcodes:\n",
    "    (x, y, w, h) = barcode.rect\n",
    "    cv2.rectangle(image, (x, y), (x + w, y + h), (0, 0, 255), 2)\n",
    "\n",
    "barcodeData = barcode.data.decode(\"utf-8\")\n",
    "cv2.putText(image, barcodeData, (x, y - 10), cv2.FONT_HERSHEY_SIMPLEX, 0.5, (0, 0, 255), 2)\n",
    "show(image)\n",
    "print(\"[INFO] barcode: {}\".format(barcodeData))"
   ]
  },
  {
   "cell_type": "code",
   "execution_count": 2,
   "metadata": {},
   "outputs": [],
   "source": [
    "from read_barcode import read_barcode"
   ]
  },
  {
   "cell_type": "code",
   "execution_count": 3,
   "metadata": {},
   "outputs": [
    {
     "name": "stdout",
     "output_type": "stream",
     "text": [
      "[INFO] barcode: 45241993\n",
      "[INFO] barcode: 8801008700105\n",
      "[INFO] barcode: 8801008700105\n",
      "[INFO] barcode: 8801008700105\n",
      "[INFO] barcode: 8801008700105\n",
      "[INFO] barcode: 8801008700105\n",
      "[INFO] barcode: 8801008700105\n",
      "[INFO] barcode: 8801008700105\n",
      "[INFO] barcode: 8801008700105\n",
      "[INFO] barcode: 8801008700105\n",
      "[INFO] barcode: 8801008700105\n",
      "[INFO] barcode: 8801008700105\n",
      "[INFO] barcode: 8801008700105\n",
      "[INFO] barcode: 8801008700105\n",
      "[INFO] barcode: 8801008700105\n",
      "[INFO] barcode: 8801008700105\n",
      "[INFO] barcode: 8801008700105\n",
      "[INFO] barcode: 8801008700105\n",
      "[INFO] barcode: 8801008700105\n",
      "[INFO] barcode: 8801008700105\n",
      "[INFO] barcode: 8801008700105\n",
      "[INFO] barcode: 8801008700105\n",
      "[INFO] barcode: 8801008700105\n",
      "[INFO] barcode: 8801008700105\n",
      "[INFO] barcode: 8801008700105\n",
      "[INFO] barcode: 8801008700105\n",
      "[INFO] barcode: 8801008700105\n",
      "[INFO] barcode: 8801008700105\n"
     ]
    }
   ],
   "source": [
    "barcodes = read_barcode()"
   ]
  },
  {
   "cell_type": "code",
   "execution_count": 4,
   "metadata": {},
   "outputs": [
    {
     "data": {
      "text/plain": [
       "{'45241993', '8801008700105'}"
      ]
     },
     "execution_count": 4,
     "metadata": {},
     "output_type": "execute_result"
    }
   ],
   "source": [
    "barcodes"
   ]
  },
  {
   "cell_type": "code",
   "execution_count": null,
   "metadata": {},
   "outputs": [],
   "source": []
  }
 ],
 "metadata": {
  "kernelspec": {
   "display_name": "Python 3",
   "language": "python",
   "name": "python3"
  },
  "language_info": {
   "codemirror_mode": {
    "name": "ipython",
    "version": 3
   },
   "file_extension": ".py",
   "mimetype": "text/x-python",
   "name": "python",
   "nbconvert_exporter": "python",
   "pygments_lexer": "ipython3",
   "version": "3.7.7"
  }
 },
 "nbformat": 4,
 "nbformat_minor": 4
}
