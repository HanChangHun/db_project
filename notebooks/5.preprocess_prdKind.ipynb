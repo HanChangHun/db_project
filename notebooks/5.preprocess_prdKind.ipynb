{
 "cells": [
  {
   "cell_type": "code",
   "execution_count": 16,
   "metadata": {},
   "outputs": [],
   "source": [
    "import pandas as pd\n",
    "from collections import Counter\n",
    "from pathlib import Path\n",
    "import json\n",
    "from datetime import datetime\n",
    "\n",
    "update_date = datetime.now().strftime(\"%y%m%d%H%M%S\")"
   ]
  },
  {
   "cell_type": "code",
   "execution_count": 17,
   "metadata": {},
   "outputs": [],
   "source": [
    "dataset_dir = Path(\"../datasets/\")\n",
    "haccp_dataset_path = dataset_dir / \"haccp_dataset_200525221016.csv\"\n",
    "df = pd.read_csv(haccp_dataset_path)\n",
    "\n",
    "json_path = dataset_dir / \"SuperPrdKind.json\"\n",
    "with open(json_path, encoding='utf-8') as f:\n",
    "    super_prd = json.load(f)\n",
    "\n",
    "dst_dir = dataset_dir / \"PrdKinds_{}.csv\".format(update_date)"
   ]
  },
  {
   "cell_type": "code",
   "execution_count": null,
   "metadata": {},
   "outputs": [],
   "source": [
    "kind_counter = Counter(df['prdkind'])\n",
    "kind_set = set(df['prdkind'])\n",
    "\n",
    "sorted_kind = sorted(kind_counter.items(), key=lambda pair: pair[1], reverse=True)\n",
    "\n",
    "prd_all = []\n",
    "for kind in list(kind_set):\n",
    "    prd_all.append([kind, set(df[df['prdkind'] == kind]['allergy'])])"
   ]
  },
  {
   "cell_type": "code",
   "execution_count": 4,
   "metadata": {
    "scrolled": true
   },
   "outputs": [
    {
     "data": {
      "text/html": [
       "<div>\n",
       "<style scoped>\n",
       "    .dataframe tbody tr th:only-of-type {\n",
       "        vertical-align: middle;\n",
       "    }\n",
       "\n",
       "    .dataframe tbody tr th {\n",
       "        vertical-align: top;\n",
       "    }\n",
       "\n",
       "    .dataframe thead th {\n",
       "        text-align: right;\n",
       "    }\n",
       "</style>\n",
       "<table border=\"1\" class=\"dataframe\">\n",
       "  <thead>\n",
       "    <tr style=\"text-align: right;\">\n",
       "      <th></th>\n",
       "      <th>prdlstnm</th>\n",
       "      <th>rawmtrl</th>\n",
       "      <th>allergy</th>\n",
       "    </tr>\n",
       "  </thead>\n",
       "  <tbody>\n",
       "    <tr>\n",
       "      <th>7886</th>\n",
       "      <td>교동진</td>\n",
       "      <td>흑깨다식:흑깨(국산)95%,꿀(국산),물엿(옥분)\\r\\n참깨다식:참깨(국산)90%,...</td>\n",
       "      <td>호두마른정과-호두\\r\\n매작과-밀,대두\\r\\n쑥치자매작과-밀,대두</td>\n",
       "    </tr>\n",
       "  </tbody>\n",
       "</table>\n",
       "</div>"
      ],
      "text/plain": [
       "     prdlstnm                                            rawmtrl  \\\n",
       "7886      교동진  흑깨다식:흑깨(국산)95%,꿀(국산),물엿(옥분)\\r\\n참깨다식:참깨(국산)90%,...   \n",
       "\n",
       "                                   allergy  \n",
       "7886  호두마른정과-호두\\r\\n매작과-밀,대두\\r\\n쑥치자매작과-밀,대두  "
      ]
     },
     "execution_count": 4,
     "metadata": {},
     "output_type": "execute_result"
    }
   ],
   "source": [
    "df[df['prdkind'] == '흑깨다식,참깨다식 :과자류\\r\\n대추조란,연근정과,금귤정과,편강정과:당절임류\\r\\n호두마른정과:당절임류\\r\\n매작과,쑥치자매작과:과자류'][['prdlstnm', 'rawmtrl', 'allergy']].head()"
   ]
  },
  {
   "cell_type": "code",
   "execution_count": 5,
   "metadata": {},
   "outputs": [
    {
     "data": {
      "text/plain": [
       "585"
      ]
     },
     "execution_count": 5,
     "metadata": {},
     "output_type": "execute_result"
    }
   ],
   "source": [
    "len(sorted_kind)"
   ]
  },
  {
   "cell_type": "code",
   "execution_count": 19,
   "metadata": {},
   "outputs": [],
   "source": [
    "final_data = []\n",
    "for sup, prd in super_prd.items():\n",
    "    for p in prd:\n",
    "        final_data.append([p, sup])\n",
    "\n",
    "final_df = pd.DataFrame(final_data)\n",
    "final_df.to_csv(dst_dir, encoding=\"utf-8-sig\")"
   ]
  },
  {
   "cell_type": "code",
   "execution_count": null,
   "metadata": {},
   "outputs": [],
   "source": []
  }
 ],
 "metadata": {
  "kernelspec": {
   "display_name": "Python 3",
   "language": "python",
   "name": "python3"
  },
  "language_info": {
   "codemirror_mode": {
    "name": "ipython",
    "version": 3
   },
   "file_extension": ".py",
   "mimetype": "text/x-python",
   "name": "python",
   "nbconvert_exporter": "python",
   "pygments_lexer": "ipython3",
   "version": "3.7.7"
  }
 },
 "nbformat": 4,
 "nbformat_minor": 4
}
