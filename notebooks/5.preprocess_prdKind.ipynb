{
 "cells": [
  {
   "cell_type": "code",
   "execution_count": 17,
   "metadata": {},
   "outputs": [],
   "source": [
    "import numpy as np\n",
    "import pandas as pd\n",
    "from collections import Counter\n",
    "from pathlib import Path\n",
    "import json\n",
    "from datetime import datetime\n",
    "\n",
    "update_date = datetime.now().strftime(\"%y%m%d%H%M%S\")"
   ]
  },
  {
   "cell_type": "code",
   "execution_count": 18,
   "metadata": {},
   "outputs": [],
   "source": [
    "dataset_dir = Path(\"../datasets/\")\n",
    "haccp_dataset_path = dataset_dir / \"haccp_dataset_200619142700.csv\"\n",
    "df = pd.read_csv(haccp_dataset_path)"
   ]
  },
  {
   "cell_type": "code",
   "execution_count": 19,
   "metadata": {},
   "outputs": [],
   "source": [
    "kind_counter = Counter(df['prdkind'])\n",
    "kind_set = set(df['prdkind'])\n",
    "\n",
    "sorted_kind = sorted(kind_counter.items(), key=lambda pair: pair[1], reverse=True)\n",
    "\n",
    "prd_all = []\n",
    "for kind in list(kind_set):\n",
    "    prd_all.append([kind, set(df[df['prdkind'] == kind]['allergy'])])"
   ]
  },
  {
   "cell_type": "code",
   "execution_count": 20,
   "metadata": {},
   "outputs": [
    {
     "data": {
      "text/html": [
       "<div>\n",
       "<style scoped>\n",
       "    .dataframe tbody tr th:only-of-type {\n",
       "        vertical-align: middle;\n",
       "    }\n",
       "\n",
       "    .dataframe tbody tr th {\n",
       "        vertical-align: top;\n",
       "    }\n",
       "\n",
       "    .dataframe thead th {\n",
       "        text-align: right;\n",
       "    }\n",
       "</style>\n",
       "<table border=\"1\" class=\"dataframe\">\n",
       "  <thead>\n",
       "    <tr style=\"text-align: right;\">\n",
       "      <th></th>\n",
       "      <th>prdlstnm</th>\n",
       "      <th>rawmtrl</th>\n",
       "      <th>allergy</th>\n",
       "    </tr>\n",
       "  </thead>\n",
       "  <tbody>\n",
       "    <tr>\n",
       "      <th>1701</th>\n",
       "      <td>마이산정기담은흑돼지수제치즈돈까스</td>\n",
       "      <td>돈육(국내산50%),치즈20%(수입산),생빵가루17.3%(밀가루-국내산,캐나다산/(...</td>\n",
       "      <td>알수없음</td>\n",
       "    </tr>\n",
       "    <tr>\n",
       "      <th>1702</th>\n",
       "      <td>마이산 정기담은 흑돼지 돈까스</td>\n",
       "      <td>돈육(국내산70%)생빵가루17.3%(밀가루-미국산,캐나다산/팜유-말레이시아산)-옥수...</td>\n",
       "      <td>돼지고기,대두,밀,우유,알류</td>\n",
       "    </tr>\n",
       "  </tbody>\n",
       "</table>\n",
       "</div>"
      ],
      "text/plain": [
       "               prdlstnm                                            rawmtrl  \\\n",
       "1701  마이산정기담은흑돼지수제치즈돈까스  돈육(국내산50%),치즈20%(수입산),생빵가루17.3%(밀가루-국내산,캐나다산/(...   \n",
       "1702   마이산 정기담은 흑돼지 돈까스  돈육(국내산70%)생빵가루17.3%(밀가루-미국산,캐나다산/팜유-말레이시아산)-옥수...   \n",
       "\n",
       "              allergy  \n",
       "1701             알수없음  \n",
       "1702  돼지고기,대두,밀,우유,알류  "
      ]
     },
     "execution_count": 20,
     "metadata": {},
     "output_type": "execute_result"
    }
   ],
   "source": [
    "df[df['prdkind'] == '분쇄 가공육'][['prdlstnm', 'rawmtrl', 'allergy']].head(20)"
   ]
  },
  {
   "cell_type": "code",
   "execution_count": 23,
   "metadata": {},
   "outputs": [],
   "source": [
    "super_prd_path = dataset_dir / \"SuperPrd.json\"\n",
    "super_prd_all_path = dataset_dir / \"SuperPrdAll.json\"\n",
    "super_prd_veg_path = dataset_dir / \"SuperPrdVeg.json\"\n",
    "super_raw_path = dataset_dir / \"SuperRaw.json\"\n",
    "super_raw_all_path = dataset_dir / \"SuperRawAll.json\"\n",
    "super_raw_veg_path = dataset_dir / \"SuperRawVeg.json\"\n",
    "\n",
    "with open(super_prd_path, encoding='utf-8') as f:\n",
    "    super_prd = json.load(f)\n",
    "with open(super_prd_veg_path, encoding='utf-8') as f:\n",
    "    super_prd_veg = json.load(f)\n",
    "with open(super_prd_all_path, encoding='utf-8') as f:\n",
    "    super_prd_all = json.load(f)\n",
    "with open(super_raw_path, encoding='utf-8') as f:\n",
    "    super_raw = json.load(f)\n",
    "with open(super_raw_veg_path, encoding='utf-8') as f:\n",
    "    super_raw_veg = json.load(f)\n",
    "with open(super_raw_all_path, encoding='utf-8') as f:\n",
    "    super_raw_all = json.load(f)\n",
    "    \n",
    "prd_all_dst_dir = dataset_dir / \"AllergyPrdKind_{}.csv\".format(update_date)\n",
    "prd_veg_dst_dir = dataset_dir / \"VegPrdKind_{}.csv\".format(update_date)\n",
    "raw_all_dst_dir = dataset_dir / \"AllergyRawMtrl_{}.csv\".format(update_date)\n",
    "raw_veg_dst_dir = dataset_dir / \"VegRawMtrl_{}.csv\".format(update_date)"
   ]
  },
  {
   "cell_type": "markdown",
   "metadata": {},
   "source": [
    "---"
   ]
  },
  {
   "cell_type": "code",
   "execution_count": 24,
   "metadata": {},
   "outputs": [
    {
     "data": {
      "text/plain": [
       "{'vegan': ['돼지고기', '쇠고기', '가금류', '생선', '고기', '난류', '우유'],\n",
       " 'lactoVeg': ['돼지고기', '쇠고기', '가금류', '생선', '고기', '난류'],\n",
       " 'ovoVeg': ['돼지고기', '쇠고기', '가금류', '생선', '고기', '우유'],\n",
       " 'lactoOvoVeg': ['돼지고기', '쇠고기', '가금류', '생선', '고기'],\n",
       " 'pescoVeg': ['돼지고기', '쇠고기', '가금류'],\n",
       " 'polloVeg': ['돼지고기', '쇠고기']}"
      ]
     },
     "execution_count": 24,
     "metadata": {},
     "output_type": "execute_result"
    }
   ],
   "source": [
    "super_prd_veg"
   ]
  },
  {
   "cell_type": "code",
   "execution_count": 25,
   "metadata": {},
   "outputs": [
    {
     "data": {
      "text/plain": [
       "{'vegan': ['돼지', '쇠고기', '닭', '조개', '게', '새우', '고등어', '오징어', '난류', '우유'],\n",
       " 'lactoVeg': ['돼지', '쇠고기', '닭', '조개', '게', '새우', '고등어', '오징어', '우유'],\n",
       " 'ovoVeg': ['돼지', '쇠고기', '닭', '조개', '게', '새우', '고등어', '오징어', '난류'],\n",
       " 'lactoOvoVeg': ['돼지', '쇠고기', '닭', '조개', '게', '새우', '고등어', '오징어'],\n",
       " 'pescoVeg': ['돼지', '쇠고기', '닭'],\n",
       " 'polloVeg': ['돼지', '쇠고기']}"
      ]
     },
     "execution_count": 25,
     "metadata": {},
     "output_type": "execute_result"
    }
   ],
   "source": [
    "super_raw_veg"
   ]
  },
  {
   "cell_type": "code",
   "execution_count": 26,
   "metadata": {},
   "outputs": [],
   "source": [
    "veg_prd_sup = {'돼지고기' : [1, 1, 1, 1, 1, 1],\n",
    "               '쇠고기' : [1, 1, 1, 1, 1, 1],\n",
    "               '가금류' : [1, 1, 1, 1, 1, 0],\n",
    "               '생선' : [1, 1, 1, 1, 0, 0],\n",
    "               '고기' : [1, 1, 1, 1, 0, 0],\n",
    "               '난류' : [1, 1, 0, 0, 0, 0],\n",
    "               '우유' : [1, 0, 1, 0, 0, 0]}\n",
    "\n",
    "veg_raw_sup = {'돼지' : [1, 1, 1, 1, 1, 1],\n",
    "               '쇠고기' : [1, 1, 1, 1, 1, 1],\n",
    "               '닭' : [1, 1, 1, 1, 1, 0],\n",
    "               '조개' : [1, 1, 1, 1, 0, 0],\n",
    "               '게' : [1, 1, 1, 1, 0, 0],\n",
    "               '새우' : [1, 1, 1, 1, 0, 0],\n",
    "               '고등어' : [1, 1, 1, 1, 0, 0],\n",
    "               '오징어' : [1, 1, 1, 1, 0, 0],\n",
    "               '고기' : [1, 1, 1, 1, 0, 0],\n",
    "               '난류' : [1, 1, 0, 0, 0, 0],\n",
    "               '우유' : [1, 0, 1, 0, 0, 0]}"
   ]
  },
  {
   "cell_type": "code",
   "execution_count": 27,
   "metadata": {},
   "outputs": [],
   "source": [
    "final_sup_prd_veg = []\n",
    "for sup, prd in super_prd.items():\n",
    "    if sup in veg_prd_sup.keys():\n",
    "        veg_info = veg_prd_sup[sup]\n",
    "    else:\n",
    "        veg_info = [0, 0, 0, 0, 0, 0]\n",
    "    for p in prd:\n",
    "        final_sup_prd_veg.append([p] + veg_info)"
   ]
  },
  {
   "cell_type": "code",
   "execution_count": 28,
   "metadata": {},
   "outputs": [],
   "source": [
    "prd_veg_cols = [\"prdKind\", \"vegan\", \"lactoVeg\", \"ovoVeg\", \"lactoOvoVeg\", \"pescoVeg\", \"polloVeg\"]\n",
    "final_df = pd.DataFrame(final_sup_prd_veg, columns=prd_veg_cols)\n",
    "final_df.to_csv(prd_veg_dst_dir, encoding=\"utf-8-sig\", index=False)"
   ]
  },
  {
   "cell_type": "code",
   "execution_count": 29,
   "metadata": {},
   "outputs": [],
   "source": [
    "final_sup_raw_veg = []\n",
    "for sup, raw in super_raw.items():\n",
    "    if sup in veg_raw_sup.keys():\n",
    "        veg_info = veg_raw_sup[sup]\n",
    "    else:\n",
    "        veg_info = [0, 0, 0, 0, 0, 0]\n",
    "    for r in raw[0]:\n",
    "        final_sup_raw_veg.append([r] + veg_info)"
   ]
  },
  {
   "cell_type": "code",
   "execution_count": 30,
   "metadata": {},
   "outputs": [],
   "source": [
    "raw_veg_cols = [\"RawKind\", \"vegan\", \"lactoVeg\", \"ovoVeg\", \"lactoOvoVeg\", \"pescoVeg\", \"polloVeg\"]\n",
    "final_df = pd.DataFrame(final_sup_raw_veg, columns=raw_veg_cols)\n",
    "final_df.to_csv(raw_veg_dst_dir, encoding=\"utf-8-sig\", index=False)"
   ]
  },
  {
   "cell_type": "markdown",
   "metadata": {},
   "source": [
    "---"
   ]
  },
  {
   "cell_type": "code",
   "execution_count": 31,
   "metadata": {},
   "outputs": [],
   "source": [
    "final_sup_prd_all = []\n",
    "for sup, prd in super_prd.items():\n",
    "    if sup in super_prd_all.keys():\n",
    "        all_info = [sup, 0, 'null', 'null']\n",
    "    else:\n",
    "        all_info = ['null', 0, 'null', 'null']\n",
    "    for p in prd:\n",
    "        final_sup_prd_all.append([p] + all_info)"
   ]
  },
  {
   "cell_type": "code",
   "execution_count": 33,
   "metadata": {},
   "outputs": [],
   "source": [
    "prd_all_cols = [\"prdKind\", \"allergy\", \"isCrossReact\", \"parentAllergy\", \"probablility\"]\n",
    "final_df = pd.DataFrame(final_sup_prd_all, columns=prd_all_cols)\n",
    "final_df.to_csv(prd_all_dst_dir, encoding=\"utf-8-sig\", index=False)"
   ]
  },
  {
   "cell_type": "code",
   "execution_count": 34,
   "metadata": {},
   "outputs": [],
   "source": [
    "final_sup_raw_all = []\n",
    "for sup, raw in super_raw.items():\n",
    "    if sup in super_raw_all.keys():\n",
    "        all_info = [sup, 0, 'null', 'null']\n",
    "    elif raw[1] == 1:\n",
    "        all_info = [raw[2], 'true', raw[2], raw[3]]\n",
    "    else:\n",
    "        all_info = ['null', 0, 'null', 'null']\n",
    "    for r in raw[0]:\n",
    "        final_sup_raw_all.append([r] + all_info)"
   ]
  },
  {
   "cell_type": "code",
   "execution_count": 36,
   "metadata": {},
   "outputs": [],
   "source": [
    "raw_all_cols = [\"rawMtrl\", \"allergy\", \"isCrossReact\", \"parentAllergy\", \"probablility\"]\n",
    "final_df = pd.DataFrame(final_sup_raw_all, columns=raw_all_cols)\n",
    "final_df.to_csv(raw_all_dst_dir, encoding=\"utf-8-sig\", index=False)"
   ]
  },
  {
   "cell_type": "code",
   "execution_count": null,
   "metadata": {},
   "outputs": [],
   "source": []
  },
  {
   "cell_type": "code",
   "execution_count": null,
   "metadata": {},
   "outputs": [],
   "source": []
  }
 ],
 "metadata": {
  "kernelspec": {
   "display_name": "Python 3",
   "language": "python",
   "name": "python3"
  },
  "language_info": {
   "codemirror_mode": {
    "name": "ipython",
    "version": 3
   },
   "file_extension": ".py",
   "mimetype": "text/x-python",
   "name": "python",
   "nbconvert_exporter": "python",
   "pygments_lexer": "ipython3",
   "version": "3.7.7"
  }
 },
 "nbformat": 4,
 "nbformat_minor": 4
}
