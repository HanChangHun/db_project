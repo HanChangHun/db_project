{
 "cells": [
  {
   "cell_type": "code",
   "execution_count": 1,
   "metadata": {},
   "outputs": [],
   "source": [
    "import sys\n",
    "import json\n",
    "from pathlib import Path\n",
    "import sqlalchemy\n",
    "import pandas as pd\n",
    "from utils import * \n",
    "from tqdm.notebook import tqdm"
   ]
  },
  {
   "cell_type": "code",
   "execution_count": 2,
   "metadata": {},
   "outputs": [],
   "source": [
    "def print_res(query):\n",
    "    res = pd.read_sql(query, conn)\n",
    "    print(res, \"\\n\")"
   ]
  },
  {
   "cell_type": "code",
   "execution_count": 3,
   "metadata": {},
   "outputs": [],
   "source": [
    "def create_trigger(trigger_name, trigger_body, func_name, func_body):\n",
    "    query =\"\"\"\n",
    "create or replace function {func_name}() returns trigger as ${trigger_name}$\n",
    "    begin\n",
    "        {func_body}\n",
    "    end;\n",
    "${trigger_name}$ language plpgsql;\n",
    "\n",
    "create trigger {trigger_name}\n",
    "{trigger_body};\"\"\".format(trigger_name=trigger_name, trigger_body=trigger_body.strip(),\n",
    "                          func_name=func_name, func_body=func_body.strip())\n",
    "    return query"
   ]
  },
  {
   "cell_type": "code",
   "execution_count": 6,
   "metadata": {},
   "outputs": [
    {
     "name": "stdout",
     "output_type": "stream",
     "text": [
      "\n",
      "create or replace function f1() returns trigger as $AllergyTrigger$\n",
      "    begin\n",
      "        if  New.rawMtrl LIKE '%' || AllergyRawMtrl.rawmtrl || '%' then\n",
      "            insert into AllergyProduct values (select New.prdlstreportno, r.*\n",
      "                                                    from vegrawmtrl r\n",
      "                                                    where New.rawMtrl LIKE '%' || r.rawmtrl || '%' and r.vegan = true);\n",
      "        end if;\n",
      "        return null;\n",
      "    end;\n",
      "$AllergyTrigger$ language plpgsql;\n",
      "\n",
      "create trigger AllergyTrigger\n",
      "after insert on FoodInfo\n",
      "for each row\n",
      "execute procedure f1();\n"
     ]
    }
   ],
   "source": [
    "tr1 = 'AllergyTrigger'\n",
    "tr1_body = \"\"\"\n",
    "after insert on FoodInfo\n",
    "for each row\n",
    "execute procedure f1()\n",
    "\"\"\"\n",
    "fr1 = \"f1\"\n",
    "fr1_body = \"\"\"\n",
    "        if  New.rawMtrl LIKE '%' || AllergyRawMtrl.rawmtrl || '%' then\n",
    "            insert into AllergyProduct(prdlstreportno, rawmtrl, allergy, iscrossreact, probability) \n",
    "\t\t\tselect New.prdlstreportno, r.* from vegrawmtrl r\n",
    "            where New.rawMtrl LIKE '%' || r.rawmtrl || '%' and r.vegan = true;\n",
    "        end if;\n",
    "        return null;\n",
    "\"\"\"\n",
    "print(create_trigger(tr1, tr1_body, fr1, fr1_body))"
   ]
  },
  {
   "cell_type": "code",
   "execution_count": null,
   "metadata": {},
   "outputs": [],
   "source": [
    "tr1 = 'AllergyTrigger'\n",
    "tr1_body = \"\"\"\n",
    "after insert on FoodInfo\n",
    "for each row\n",
    "execute procedure f2()\n",
    "\"\"\"\n",
    "fr1 = \"f1\"\n",
    "fr1_body = \"\"\"\n",
    "        if  New.rawMtrl LIKE '%' || vegrawmtrl.rawmtrl || '%' then\n",
    "            insert into Apply values (New.sID, 'Stanford', 'geology', null);\n",
    "            insert into Apply values (New.sID, 'MIT', 'biology', null);\n",
    "        end if;\n",
    "        return null;\n",
    "\"\"\"\n",
    "print(create_trigger(tr1, tr1_body, fr1, fr1_body))"
   ]
  }
 ],
 "metadata": {
  "kernelspec": {
   "display_name": "Python 3",
   "language": "python",
   "name": "python3"
  },
  "language_info": {
   "codemirror_mode": {
    "name": "ipython",
    "version": 3
   },
   "file_extension": ".py",
   "mimetype": "text/x-python",
   "name": "python",
   "nbconvert_exporter": "python",
   "pygments_lexer": "ipython3",
   "version": "3.7.6"
  }
 },
 "nbformat": 4,
 "nbformat_minor": 4
}
